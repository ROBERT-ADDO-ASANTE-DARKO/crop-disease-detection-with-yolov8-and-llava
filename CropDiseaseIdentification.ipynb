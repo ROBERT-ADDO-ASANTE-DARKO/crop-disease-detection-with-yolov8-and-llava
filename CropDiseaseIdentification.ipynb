{
 "cells": [
  {
   "cell_type": "code",
   "execution_count": 1,
   "metadata": {},
   "outputs": [
    {
     "name": "stdout",
     "output_type": "stream",
     "text": [
      "Collecting roboflow\n",
      "  Downloading roboflow-1.1.33-py3-none-any.whl.metadata (9.2 kB)\n",
      "Requirement already satisfied: certifi in /system/conda/miniconda3/envs/cloudspace/lib/python3.10/site-packages (from roboflow) (2024.6.2)\n",
      "Collecting chardet==4.0.0 (from roboflow)\n",
      "  Downloading chardet-4.0.0-py2.py3-none-any.whl.metadata (3.5 kB)\n",
      "Requirement already satisfied: idna==3.7 in /system/conda/miniconda3/envs/cloudspace/lib/python3.10/site-packages (from roboflow) (3.7)\n",
      "Requirement already satisfied: cycler in /system/conda/miniconda3/envs/cloudspace/lib/python3.10/site-packages (from roboflow) (0.12.1)\n",
      "Requirement already satisfied: kiwisolver>=1.3.1 in /system/conda/miniconda3/envs/cloudspace/lib/python3.10/site-packages (from roboflow) (1.4.5)\n",
      "Requirement already satisfied: matplotlib in /system/conda/miniconda3/envs/cloudspace/lib/python3.10/site-packages (from roboflow) (3.8.2)\n",
      "Requirement already satisfied: numpy>=1.18.5 in /system/conda/miniconda3/envs/cloudspace/lib/python3.10/site-packages (from roboflow) (1.26.2)\n",
      "Collecting opencv-python-headless==4.10.0.84 (from roboflow)\n",
      "  Downloading opencv_python_headless-4.10.0.84-cp37-abi3-manylinux_2_17_x86_64.manylinux2014_x86_64.whl.metadata (20 kB)\n",
      "Requirement already satisfied: Pillow>=7.1.2 in /system/conda/miniconda3/envs/cloudspace/lib/python3.10/site-packages (from roboflow) (10.3.0)\n",
      "Requirement already satisfied: python-dateutil in /system/conda/miniconda3/envs/cloudspace/lib/python3.10/site-packages (from roboflow) (2.9.0.post0)\n",
      "Requirement already satisfied: python-dotenv in /system/conda/miniconda3/envs/cloudspace/lib/python3.10/site-packages (from roboflow) (1.0.1)\n",
      "Requirement already satisfied: requests in /system/conda/miniconda3/envs/cloudspace/lib/python3.10/site-packages (from roboflow) (2.32.3)\n",
      "Requirement already satisfied: six in /system/conda/miniconda3/envs/cloudspace/lib/python3.10/site-packages (from roboflow) (1.16.0)\n",
      "Requirement already satisfied: urllib3>=1.26.6 in /system/conda/miniconda3/envs/cloudspace/lib/python3.10/site-packages (from roboflow) (2.2.1)\n",
      "Requirement already satisfied: tqdm>=4.41.0 in /system/conda/miniconda3/envs/cloudspace/lib/python3.10/site-packages (from roboflow) (4.66.4)\n",
      "Requirement already satisfied: PyYAML>=5.3.1 in /system/conda/miniconda3/envs/cloudspace/lib/python3.10/site-packages (from roboflow) (6.0.1)\n",
      "Collecting requests-toolbelt (from roboflow)\n",
      "  Downloading requests_toolbelt-1.0.0-py2.py3-none-any.whl.metadata (14 kB)\n",
      "Collecting python-magic (from roboflow)\n",
      "  Downloading python_magic-0.4.27-py2.py3-none-any.whl.metadata (5.8 kB)\n",
      "Requirement already satisfied: contourpy>=1.0.1 in /system/conda/miniconda3/envs/cloudspace/lib/python3.10/site-packages (from matplotlib->roboflow) (1.2.1)\n",
      "Requirement already satisfied: fonttools>=4.22.0 in /system/conda/miniconda3/envs/cloudspace/lib/python3.10/site-packages (from matplotlib->roboflow) (4.53.0)\n",
      "Requirement already satisfied: packaging>=20.0 in /system/conda/miniconda3/envs/cloudspace/lib/python3.10/site-packages (from matplotlib->roboflow) (24.1)\n",
      "Requirement already satisfied: pyparsing>=2.3.1 in /system/conda/miniconda3/envs/cloudspace/lib/python3.10/site-packages (from matplotlib->roboflow) (3.1.2)\n",
      "Requirement already satisfied: charset-normalizer<4,>=2 in /system/conda/miniconda3/envs/cloudspace/lib/python3.10/site-packages (from requests->roboflow) (3.3.2)\n",
      "Downloading roboflow-1.1.33-py3-none-any.whl (75 kB)\n",
      "\u001b[2K   \u001b[90m━━━━━━━━━━━━━━━━━━━━━━━━━━━━━━━━━━━━━━━━\u001b[0m \u001b[32m75.6/75.6 kB\u001b[0m \u001b[31m6.6 MB/s\u001b[0m eta \u001b[36m0:00:00\u001b[0m\n",
      "\u001b[?25hDownloading chardet-4.0.0-py2.py3-none-any.whl (178 kB)\n",
      "\u001b[2K   \u001b[90m━━━━━━━━━━━━━━━━━━━━━━━━━━━━━━━━━━━━━━━━\u001b[0m \u001b[32m178.7/178.7 kB\u001b[0m \u001b[31m21.9 MB/s\u001b[0m eta \u001b[36m0:00:00\u001b[0m\n",
      "\u001b[?25hDownloading opencv_python_headless-4.10.0.84-cp37-abi3-manylinux_2_17_x86_64.manylinux2014_x86_64.whl (49.9 MB)\n",
      "\u001b[2K   \u001b[90m━━━━━━━━━━━━━━━━━━━━━━━━━━━━━━━━━━━━━━━━\u001b[0m \u001b[32m49.9/49.9 MB\u001b[0m \u001b[31m62.3 MB/s\u001b[0m eta \u001b[36m0:00:00\u001b[0m:00:01\u001b[0m00:01\u001b[0m\n",
      "\u001b[?25hDownloading python_magic-0.4.27-py2.py3-none-any.whl (13 kB)\n",
      "Downloading requests_toolbelt-1.0.0-py2.py3-none-any.whl (54 kB)\n",
      "\u001b[2K   \u001b[90m━━━━━━━━━━━━━━━━━━━━━━━━━━━━━━━━━━━━━━━━\u001b[0m \u001b[32m54.5/54.5 kB\u001b[0m \u001b[31m4.9 MB/s\u001b[0m eta \u001b[36m0:00:00\u001b[0m\n",
      "\u001b[?25hInstalling collected packages: python-magic, opencv-python-headless, chardet, requests-toolbelt, roboflow\n",
      "Successfully installed chardet-4.0.0 opencv-python-headless-4.10.0.84 python-magic-0.4.27 requests-toolbelt-1.0.0 roboflow-1.1.33\n",
      "Note: you may need to restart the kernel to use updated packages.\n",
      "loading Roboflow workspace...\n",
      "loading Roboflow project...\n",
      "[WARNING] we noticed you are downloading a `yolov8` datasets but you don't have `ultralytics` installed. Roboflow `.deploy` supports only models trained with `ultralytics==8.0.196`, to intall it `pip install ultralytics==8.0.196`.\n"
     ]
    },
    {
     "name": "stderr",
     "output_type": "stream",
     "text": [
      "Downloading Dataset Version Zip in PlantDoc-Dataset-3 to yolov8:: 100%|██████████| 116820/116820 [00:04<00:00, 26678.72it/s]"
     ]
    },
    {
     "name": "stdout",
     "output_type": "stream",
     "text": [
      "\n"
     ]
    },
    {
     "name": "stderr",
     "output_type": "stream",
     "text": [
      "\n",
      "Extracting Dataset Version Zip to PlantDoc-Dataset-3 in yolov8:: 100%|██████████| 4648/4648 [00:01<00:00, 4561.81it/s]\n"
     ]
    }
   ],
   "source": [
    "%pip install roboflow\n",
    "\n",
    "from roboflow import Roboflow\n",
    "rf = Roboflow(api_key=\"BHzMcQiWkgUpaVV6fP11\")\n",
    "project = rf.workspace(\"qiuan-wu\").project(\"plantdoc-dataset\")\n",
    "version = project.version(3)\n",
    "dataset = version.download(\"yolov8\")"
   ]
  },
  {
   "cell_type": "code",
   "execution_count": 2,
   "metadata": {},
   "outputs": [
    {
     "name": "stdout",
     "output_type": "stream",
     "text": [
      "Collecting ultralytics\n",
      "  Downloading ultralytics-8.2.41-py3-none-any.whl.metadata (41 kB)\n",
      "\u001b[2K     \u001b[90m━━━━━━━━━━━━━━━━━━━━━━━━━━━━━━━━━━━━━━━━\u001b[0m \u001b[32m41.2/41.2 kB\u001b[0m \u001b[31m4.7 MB/s\u001b[0m eta \u001b[36m0:00:00\u001b[0m\n",
      "\u001b[?25hRequirement already satisfied: numpy<2.0.0,>=1.23.5 in /system/conda/miniconda3/envs/cloudspace/lib/python3.10/site-packages (from ultralytics) (1.26.2)\n",
      "Requirement already satisfied: matplotlib>=3.3.0 in /system/conda/miniconda3/envs/cloudspace/lib/python3.10/site-packages (from ultralytics) (3.8.2)\n",
      "Collecting opencv-python>=4.6.0 (from ultralytics)\n",
      "  Downloading opencv_python-4.10.0.84-cp37-abi3-manylinux_2_17_x86_64.manylinux2014_x86_64.whl.metadata (20 kB)\n",
      "Requirement already satisfied: pillow>=7.1.2 in /system/conda/miniconda3/envs/cloudspace/lib/python3.10/site-packages (from ultralytics) (10.3.0)\n",
      "Requirement already satisfied: pyyaml>=5.3.1 in /system/conda/miniconda3/envs/cloudspace/lib/python3.10/site-packages (from ultralytics) (6.0.1)\n",
      "Requirement already satisfied: requests>=2.23.0 in /system/conda/miniconda3/envs/cloudspace/lib/python3.10/site-packages (from ultralytics) (2.32.3)\n",
      "Requirement already satisfied: scipy>=1.4.1 in /system/conda/miniconda3/envs/cloudspace/lib/python3.10/site-packages (from ultralytics) (1.11.4)\n",
      "Requirement already satisfied: torch>=1.8.0 in /system/conda/miniconda3/envs/cloudspace/lib/python3.10/site-packages (from ultralytics) (2.2.1+cu121)\n",
      "Requirement already satisfied: torchvision>=0.9.0 in /system/conda/miniconda3/envs/cloudspace/lib/python3.10/site-packages (from ultralytics) (0.17.1+cu121)\n",
      "Requirement already satisfied: tqdm>=4.64.0 in /system/conda/miniconda3/envs/cloudspace/lib/python3.10/site-packages (from ultralytics) (4.66.4)\n",
      "Requirement already satisfied: psutil in /system/conda/miniconda3/envs/cloudspace/lib/python3.10/site-packages (from ultralytics) (5.9.8)\n",
      "Collecting py-cpuinfo (from ultralytics)\n",
      "  Downloading py_cpuinfo-9.0.0-py3-none-any.whl.metadata (794 bytes)\n",
      "Requirement already satisfied: pandas>=1.1.4 in /system/conda/miniconda3/envs/cloudspace/lib/python3.10/site-packages (from ultralytics) (2.1.4)\n",
      "Collecting seaborn>=0.11.0 (from ultralytics)\n",
      "  Downloading seaborn-0.13.2-py3-none-any.whl.metadata (5.4 kB)\n",
      "Collecting ultralytics-thop>=2.0.0 (from ultralytics)\n",
      "  Downloading ultralytics_thop-2.0.0-py3-none-any.whl.metadata (8.5 kB)\n",
      "Requirement already satisfied: contourpy>=1.0.1 in /system/conda/miniconda3/envs/cloudspace/lib/python3.10/site-packages (from matplotlib>=3.3.0->ultralytics) (1.2.1)\n",
      "Requirement already satisfied: cycler>=0.10 in /system/conda/miniconda3/envs/cloudspace/lib/python3.10/site-packages (from matplotlib>=3.3.0->ultralytics) (0.12.1)\n",
      "Requirement already satisfied: fonttools>=4.22.0 in /system/conda/miniconda3/envs/cloudspace/lib/python3.10/site-packages (from matplotlib>=3.3.0->ultralytics) (4.53.0)\n",
      "Requirement already satisfied: kiwisolver>=1.3.1 in /system/conda/miniconda3/envs/cloudspace/lib/python3.10/site-packages (from matplotlib>=3.3.0->ultralytics) (1.4.5)\n",
      "Requirement already satisfied: packaging>=20.0 in /system/conda/miniconda3/envs/cloudspace/lib/python3.10/site-packages (from matplotlib>=3.3.0->ultralytics) (24.1)\n",
      "Requirement already satisfied: pyparsing>=2.3.1 in /system/conda/miniconda3/envs/cloudspace/lib/python3.10/site-packages (from matplotlib>=3.3.0->ultralytics) (3.1.2)\n",
      "Requirement already satisfied: python-dateutil>=2.7 in /system/conda/miniconda3/envs/cloudspace/lib/python3.10/site-packages (from matplotlib>=3.3.0->ultralytics) (2.9.0.post0)\n",
      "Requirement already satisfied: pytz>=2020.1 in /system/conda/miniconda3/envs/cloudspace/lib/python3.10/site-packages (from pandas>=1.1.4->ultralytics) (2024.1)\n",
      "Requirement already satisfied: tzdata>=2022.1 in /system/conda/miniconda3/envs/cloudspace/lib/python3.10/site-packages (from pandas>=1.1.4->ultralytics) (2024.1)\n",
      "Requirement already satisfied: charset-normalizer<4,>=2 in /system/conda/miniconda3/envs/cloudspace/lib/python3.10/site-packages (from requests>=2.23.0->ultralytics) (3.3.2)\n",
      "Requirement already satisfied: idna<4,>=2.5 in /system/conda/miniconda3/envs/cloudspace/lib/python3.10/site-packages (from requests>=2.23.0->ultralytics) (3.7)\n",
      "Requirement already satisfied: urllib3<3,>=1.21.1 in /system/conda/miniconda3/envs/cloudspace/lib/python3.10/site-packages (from requests>=2.23.0->ultralytics) (2.2.1)\n",
      "Requirement already satisfied: certifi>=2017.4.17 in /system/conda/miniconda3/envs/cloudspace/lib/python3.10/site-packages (from requests>=2.23.0->ultralytics) (2024.6.2)\n",
      "Requirement already satisfied: filelock in /system/conda/miniconda3/envs/cloudspace/lib/python3.10/site-packages (from torch>=1.8.0->ultralytics) (3.15.1)\n",
      "Requirement already satisfied: typing-extensions>=4.8.0 in /system/conda/miniconda3/envs/cloudspace/lib/python3.10/site-packages (from torch>=1.8.0->ultralytics) (4.12.2)\n",
      "Requirement already satisfied: sympy in /system/conda/miniconda3/envs/cloudspace/lib/python3.10/site-packages (from torch>=1.8.0->ultralytics) (1.12.1)\n",
      "Requirement already satisfied: networkx in /system/conda/miniconda3/envs/cloudspace/lib/python3.10/site-packages (from torch>=1.8.0->ultralytics) (3.3)\n",
      "Requirement already satisfied: jinja2 in /system/conda/miniconda3/envs/cloudspace/lib/python3.10/site-packages (from torch>=1.8.0->ultralytics) (3.1.4)\n",
      "Requirement already satisfied: fsspec in /system/conda/miniconda3/envs/cloudspace/lib/python3.10/site-packages (from torch>=1.8.0->ultralytics) (2024.6.0)\n",
      "Requirement already satisfied: nvidia-cuda-nvrtc-cu12==12.1.105 in /system/conda/miniconda3/envs/cloudspace/lib/python3.10/site-packages (from torch>=1.8.0->ultralytics) (12.1.105)\n",
      "Requirement already satisfied: nvidia-cuda-runtime-cu12==12.1.105 in /system/conda/miniconda3/envs/cloudspace/lib/python3.10/site-packages (from torch>=1.8.0->ultralytics) (12.1.105)\n",
      "Requirement already satisfied: nvidia-cuda-cupti-cu12==12.1.105 in /system/conda/miniconda3/envs/cloudspace/lib/python3.10/site-packages (from torch>=1.8.0->ultralytics) (12.1.105)\n",
      "Requirement already satisfied: nvidia-cudnn-cu12==8.9.2.26 in /system/conda/miniconda3/envs/cloudspace/lib/python3.10/site-packages (from torch>=1.8.0->ultralytics) (8.9.2.26)\n",
      "Requirement already satisfied: nvidia-cublas-cu12==12.1.3.1 in /system/conda/miniconda3/envs/cloudspace/lib/python3.10/site-packages (from torch>=1.8.0->ultralytics) (12.1.3.1)\n",
      "Requirement already satisfied: nvidia-cufft-cu12==11.0.2.54 in /system/conda/miniconda3/envs/cloudspace/lib/python3.10/site-packages (from torch>=1.8.0->ultralytics) (11.0.2.54)\n",
      "Requirement already satisfied: nvidia-curand-cu12==10.3.2.106 in /system/conda/miniconda3/envs/cloudspace/lib/python3.10/site-packages (from torch>=1.8.0->ultralytics) (10.3.2.106)\n",
      "Requirement already satisfied: nvidia-cusolver-cu12==11.4.5.107 in /system/conda/miniconda3/envs/cloudspace/lib/python3.10/site-packages (from torch>=1.8.0->ultralytics) (11.4.5.107)\n",
      "Requirement already satisfied: nvidia-cusparse-cu12==12.1.0.106 in /system/conda/miniconda3/envs/cloudspace/lib/python3.10/site-packages (from torch>=1.8.0->ultralytics) (12.1.0.106)\n",
      "Requirement already satisfied: nvidia-nccl-cu12==2.19.3 in /system/conda/miniconda3/envs/cloudspace/lib/python3.10/site-packages (from torch>=1.8.0->ultralytics) (2.19.3)\n",
      "Requirement already satisfied: nvidia-nvtx-cu12==12.1.105 in /system/conda/miniconda3/envs/cloudspace/lib/python3.10/site-packages (from torch>=1.8.0->ultralytics) (12.1.105)\n",
      "Requirement already satisfied: triton==2.2.0 in /system/conda/miniconda3/envs/cloudspace/lib/python3.10/site-packages (from torch>=1.8.0->ultralytics) (2.2.0)\n",
      "Requirement already satisfied: nvidia-nvjitlink-cu12 in /system/conda/miniconda3/envs/cloudspace/lib/python3.10/site-packages (from nvidia-cusolver-cu12==11.4.5.107->torch>=1.8.0->ultralytics) (12.5.40)\n",
      "Requirement already satisfied: six>=1.5 in /system/conda/miniconda3/envs/cloudspace/lib/python3.10/site-packages (from python-dateutil>=2.7->matplotlib>=3.3.0->ultralytics) (1.16.0)\n",
      "Requirement already satisfied: MarkupSafe>=2.0 in /system/conda/miniconda3/envs/cloudspace/lib/python3.10/site-packages (from jinja2->torch>=1.8.0->ultralytics) (2.1.5)\n",
      "Requirement already satisfied: mpmath<1.4.0,>=1.1.0 in /system/conda/miniconda3/envs/cloudspace/lib/python3.10/site-packages (from sympy->torch>=1.8.0->ultralytics) (1.3.0)\n",
      "Downloading ultralytics-8.2.41-py3-none-any.whl (792 kB)\n",
      "\u001b[2K   \u001b[90m━━━━━━━━━━━━━━━━━━━━━━━━━━━━━━━━━━━━━━━━\u001b[0m \u001b[32m793.0/793.0 kB\u001b[0m \u001b[31m44.2 MB/s\u001b[0m eta \u001b[36m0:00:00\u001b[0m\n",
      "\u001b[?25hDownloading opencv_python-4.10.0.84-cp37-abi3-manylinux_2_17_x86_64.manylinux2014_x86_64.whl (62.5 MB)\n",
      "\u001b[2K   \u001b[90m━━━━━━━━━━━━━━━━━━━━━━━━━━━━━━━━━━━━━━━━\u001b[0m \u001b[32m62.5/62.5 MB\u001b[0m \u001b[31m53.2 MB/s\u001b[0m eta \u001b[36m0:00:00\u001b[0m:00:01\u001b[0m00:01\u001b[0m\n",
      "\u001b[?25hDownloading seaborn-0.13.2-py3-none-any.whl (294 kB)\n",
      "\u001b[2K   \u001b[90m━━━━━━━━━━━━━━━━━━━━━━━━━━━━━━━━━━━━━━━━\u001b[0m \u001b[32m294.9/294.9 kB\u001b[0m \u001b[31m29.2 MB/s\u001b[0m eta \u001b[36m0:00:00\u001b[0m\n",
      "\u001b[?25hDownloading ultralytics_thop-2.0.0-py3-none-any.whl (25 kB)\n",
      "Downloading py_cpuinfo-9.0.0-py3-none-any.whl (22 kB)\n",
      "Installing collected packages: py-cpuinfo, opencv-python, seaborn, ultralytics-thop, ultralytics\n",
      "Successfully installed opencv-python-4.10.0.84 py-cpuinfo-9.0.0 seaborn-0.13.2 ultralytics-8.2.41 ultralytics-thop-2.0.0\n",
      "Note: you may need to restart the kernel to use updated packages.\n"
     ]
    }
   ],
   "source": [
    "%pip install ultralytics"
   ]
  },
  {
   "cell_type": "code",
   "execution_count": 1,
   "metadata": {},
   "outputs": [
    {
     "name": "stdout",
     "output_type": "stream",
     "text": [
      "Ultralytics YOLOv8.2.41 🚀 Python-3.10.10 torch-2.2.1+cu121 CUDA:0 (Tesla T4, 15102MiB)\n",
      "\u001b[34m\u001b[1mengine/trainer: \u001b[0mtask=detect, mode=train, model=yolov8n.pt, data=/teamspace/studios/this_studio/PlantDoc-Dataset-3/data.yaml, epochs=100, time=None, patience=100, batch=16, imgsz=640, save=True, save_period=-1, cache=False, device=None, workers=8, project=None, name=train4, exist_ok=False, pretrained=True, optimizer=auto, verbose=True, seed=0, deterministic=True, single_cls=False, rect=False, cos_lr=False, close_mosaic=10, resume=False, amp=True, fraction=1.0, profile=False, freeze=None, multi_scale=False, overlap_mask=True, mask_ratio=4, dropout=0.0, val=True, split=val, save_json=False, save_hybrid=False, conf=None, iou=0.7, max_det=300, half=False, dnn=False, plots=True, source=None, vid_stride=1, stream_buffer=False, visualize=False, augment=False, agnostic_nms=False, classes=None, retina_masks=False, embed=None, show=False, save_frames=False, save_txt=False, save_conf=False, save_crop=False, show_labels=True, show_conf=True, show_boxes=True, line_width=None, format=torchscript, keras=False, optimize=False, int8=False, dynamic=False, simplify=False, opset=None, workspace=4, nms=False, lr0=0.01, lrf=0.01, momentum=0.937, weight_decay=0.0005, warmup_epochs=3.0, warmup_momentum=0.8, warmup_bias_lr=0.1, box=7.5, cls=0.5, dfl=1.5, pose=12.0, kobj=1.0, label_smoothing=0.0, nbs=64, hsv_h=0.015, hsv_s=0.7, hsv_v=0.4, degrees=0.0, translate=0.1, scale=0.5, shear=0.0, perspective=0.0, flipud=0.0, fliplr=0.5, bgr=0.0, mosaic=1.0, mixup=0.0, copy_paste=0.0, auto_augment=randaugment, erasing=0.4, crop_fraction=1.0, cfg=None, tracker=botsort.yaml, save_dir=runs/detect/train4\n",
      "Overriding model.yaml nc=80 with nc=30\n",
      "\n",
      "                   from  n    params  module                                       arguments                     \n",
      "  0                  -1  1       464  ultralytics.nn.modules.conv.Conv             [3, 16, 3, 2]                 \n",
      "  1                  -1  1      4672  ultralytics.nn.modules.conv.Conv             [16, 32, 3, 2]                \n",
      "  2                  -1  1      7360  ultralytics.nn.modules.block.C2f             [32, 32, 1, True]             \n",
      "  3                  -1  1     18560  ultralytics.nn.modules.conv.Conv             [32, 64, 3, 2]                \n",
      "  4                  -1  2     49664  ultralytics.nn.modules.block.C2f             [64, 64, 2, True]             \n",
      "  5                  -1  1     73984  ultralytics.nn.modules.conv.Conv             [64, 128, 3, 2]               \n",
      "  6                  -1  2    197632  ultralytics.nn.modules.block.C2f             [128, 128, 2, True]           \n",
      "  7                  -1  1    295424  ultralytics.nn.modules.conv.Conv             [128, 256, 3, 2]              \n",
      "  8                  -1  1    460288  ultralytics.nn.modules.block.C2f             [256, 256, 1, True]           \n",
      "  9                  -1  1    164608  ultralytics.nn.modules.block.SPPF            [256, 256, 5]                 \n",
      " 10                  -1  1         0  torch.nn.modules.upsampling.Upsample         [None, 2, 'nearest']          \n",
      " 11             [-1, 6]  1         0  ultralytics.nn.modules.conv.Concat           [1]                           \n",
      " 12                  -1  1    148224  ultralytics.nn.modules.block.C2f             [384, 128, 1]                 \n",
      " 13                  -1  1         0  torch.nn.modules.upsampling.Upsample         [None, 2, 'nearest']          \n",
      " 14             [-1, 4]  1         0  ultralytics.nn.modules.conv.Concat           [1]                           \n",
      " 15                  -1  1     37248  ultralytics.nn.modules.block.C2f             [192, 64, 1]                  \n",
      " 16                  -1  1     36992  ultralytics.nn.modules.conv.Conv             [64, 64, 3, 2]                \n",
      " 17            [-1, 12]  1         0  ultralytics.nn.modules.conv.Concat           [1]                           \n",
      " 18                  -1  1    123648  ultralytics.nn.modules.block.C2f             [192, 128, 1]                 \n",
      " 19                  -1  1    147712  ultralytics.nn.modules.conv.Conv             [128, 128, 3, 2]              \n",
      " 20             [-1, 9]  1         0  ultralytics.nn.modules.conv.Concat           [1]                           \n",
      " 21                  -1  1    493056  ultralytics.nn.modules.block.C2f             [384, 256, 1]                 \n",
      " 22        [15, 18, 21]  1    757162  ultralytics.nn.modules.head.Detect           [30, [64, 128, 256]]          \n",
      "Model summary: 225 layers, 3016698 parameters, 3016682 gradients, 8.2 GFLOPs\n",
      "\n",
      "Transferred 319/355 items from pretrained weights\n",
      "\u001b[34m\u001b[1mTensorBoard: \u001b[0mStart with 'tensorboard --logdir runs/detect/train4', view at http://localhost:6006/\n",
      "Freezing layer 'model.22.dfl.conv.weight'\n",
      "\u001b[34m\u001b[1mAMP: \u001b[0mrunning Automatic Mixed Precision (AMP) checks with YOLOv8n...\n",
      "\u001b[34m\u001b[1mAMP: \u001b[0mchecks passed ✅\n"
     ]
    },
    {
     "name": "stderr",
     "output_type": "stream",
     "text": [
      "\u001b[34m\u001b[1mtrain: \u001b[0mScanning /teamspace/studios/this_studio/PlantDoc-Dataset-3/train/labels.cache... 1622 images, 0 backgrounds, 0 corrupt: 100%|██████████| 1622/1622 [00:00<?, ?it/s]\n",
      "\u001b[34m\u001b[1mval: \u001b[0mScanning /teamspace/studios/this_studio/PlantDoc-Dataset-3/valid/labels.cache... 463 images, 0 backgrounds, 0 corrupt: 100%|██████████| 463/463 [00:00<?, ?it/s]\n"
     ]
    },
    {
     "name": "stdout",
     "output_type": "stream",
     "text": [
      "Plotting labels to runs/detect/train4/labels.jpg... \n",
      "\u001b[34m\u001b[1moptimizer:\u001b[0m 'optimizer=auto' found, ignoring 'lr0=0.01' and 'momentum=0.937' and determining best 'optimizer', 'lr0' and 'momentum' automatically... \n",
      "\u001b[34m\u001b[1moptimizer:\u001b[0m AdamW(lr=0.000294, momentum=0.9) with parameter groups 57 weight(decay=0.0), 64 weight(decay=0.0005), 63 bias(decay=0.0)\n",
      "\u001b[34m\u001b[1mTensorBoard: \u001b[0mmodel graph visualization added ✅\n",
      "Image sizes 640 train, 640 val\n",
      "Using 8 dataloader workers\n",
      "Logging results to \u001b[1mruns/detect/train4\u001b[0m\n",
      "Starting training for 100 epochs...\n",
      "\n",
      "      Epoch    GPU_mem   box_loss   cls_loss   dfl_loss  Instances       Size\n"
     ]
    },
    {
     "name": "stderr",
     "output_type": "stream",
     "text": [
      "      1/100      2.31G      1.379      4.396      1.595         65        640: 100%|██████████| 102/102 [00:17<00:00,  5.81it/s]\n",
      "                 Class     Images  Instances      Box(P          R      mAP50  mAP50-95): 100%|██████████| 15/15 [00:04<00:00,  3.51it/s]"
     ]
    },
    {
     "name": "stdout",
     "output_type": "stream",
     "text": [
      "                   all        463       1661      0.016      0.463     0.0287     0.0187\n"
     ]
    },
    {
     "name": "stderr",
     "output_type": "stream",
     "text": [
      "\n"
     ]
    },
    {
     "name": "stdout",
     "output_type": "stream",
     "text": [
      "\n",
      "      Epoch    GPU_mem   box_loss   cls_loss   dfl_loss  Instances       Size\n"
     ]
    },
    {
     "name": "stderr",
     "output_type": "stream",
     "text": [
      "      2/100      2.25G      1.342      3.847       1.53         44        640: 100%|██████████| 102/102 [00:15<00:00,  6.74it/s]\n",
      "                 Class     Images  Instances      Box(P          R      mAP50  mAP50-95): 100%|██████████| 15/15 [00:02<00:00,  5.37it/s]"
     ]
    },
    {
     "name": "stdout",
     "output_type": "stream",
     "text": [
      "                   all        463       1661      0.347       0.14     0.0699     0.0468\n"
     ]
    },
    {
     "name": "stderr",
     "output_type": "stream",
     "text": [
      "\n"
     ]
    },
    {
     "name": "stdout",
     "output_type": "stream",
     "text": [
      "\n",
      "      Epoch    GPU_mem   box_loss   cls_loss   dfl_loss  Instances       Size\n"
     ]
    },
    {
     "name": "stderr",
     "output_type": "stream",
     "text": [
      "      3/100      2.29G      1.342      3.472      1.557         32        640: 100%|██████████| 102/102 [00:14<00:00,  6.92it/s]\n",
      "                 Class     Images  Instances      Box(P          R      mAP50  mAP50-95): 100%|██████████| 15/15 [00:02<00:00,  5.04it/s]\n"
     ]
    },
    {
     "name": "stdout",
     "output_type": "stream",
     "text": [
      "                   all        463       1661      0.282      0.178       0.11     0.0708\n",
      "\n",
      "      Epoch    GPU_mem   box_loss   cls_loss   dfl_loss  Instances       Size\n"
     ]
    },
    {
     "name": "stderr",
     "output_type": "stream",
     "text": [
      "      4/100      2.34G      1.343      3.261       1.55         59        640: 100%|██████████| 102/102 [00:14<00:00,  6.97it/s]\n",
      "                 Class     Images  Instances      Box(P          R      mAP50  mAP50-95): 100%|██████████| 15/15 [00:03<00:00,  4.78it/s]\n"
     ]
    },
    {
     "name": "stdout",
     "output_type": "stream",
     "text": [
      "                   all        463       1661      0.262       0.24      0.154     0.0982\n",
      "\n",
      "      Epoch    GPU_mem   box_loss   cls_loss   dfl_loss  Instances       Size\n"
     ]
    },
    {
     "name": "stderr",
     "output_type": "stream",
     "text": [
      "      5/100      2.34G       1.34      3.073      1.562         43        640: 100%|██████████| 102/102 [00:14<00:00,  6.99it/s]\n",
      "                 Class     Images  Instances      Box(P          R      mAP50  mAP50-95): 100%|██████████| 15/15 [00:03<00:00,  4.92it/s]\n"
     ]
    },
    {
     "name": "stdout",
     "output_type": "stream",
     "text": [
      "                   all        463       1661      0.214       0.27      0.167      0.104\n",
      "\n",
      "      Epoch    GPU_mem   box_loss   cls_loss   dfl_loss  Instances       Size\n"
     ]
    },
    {
     "name": "stderr",
     "output_type": "stream",
     "text": [
      "      6/100      2.33G      1.351      2.958       1.55         49        640: 100%|██████████| 102/102 [00:14<00:00,  6.93it/s]\n",
      "                 Class     Images  Instances      Box(P          R      mAP50  mAP50-95): 100%|██████████| 15/15 [00:02<00:00,  5.09it/s]\n"
     ]
    },
    {
     "name": "stdout",
     "output_type": "stream",
     "text": [
      "                   all        463       1661      0.256      0.289      0.209      0.133\n",
      "\n",
      "      Epoch    GPU_mem   box_loss   cls_loss   dfl_loss  Instances       Size\n"
     ]
    },
    {
     "name": "stderr",
     "output_type": "stream",
     "text": [
      "      7/100      2.28G      1.326      2.858      1.526         46        640: 100%|██████████| 102/102 [00:14<00:00,  6.97it/s]\n",
      "                 Class     Images  Instances      Box(P          R      mAP50  mAP50-95): 100%|██████████| 15/15 [00:02<00:00,  5.30it/s]"
     ]
    },
    {
     "name": "stdout",
     "output_type": "stream",
     "text": [
      "                   all        463       1661      0.364       0.29       0.21      0.139\n"
     ]
    },
    {
     "name": "stderr",
     "output_type": "stream",
     "text": [
      "\n"
     ]
    },
    {
     "name": "stdout",
     "output_type": "stream",
     "text": [
      "\n",
      "      Epoch    GPU_mem   box_loss   cls_loss   dfl_loss  Instances       Size\n"
     ]
    },
    {
     "name": "stderr",
     "output_type": "stream",
     "text": [
      "      8/100      2.37G      1.288      2.805      1.498         31        640: 100%|██████████| 102/102 [00:14<00:00,  6.96it/s]\n",
      "                 Class     Images  Instances      Box(P          R      mAP50  mAP50-95): 100%|██████████| 15/15 [00:03<00:00,  4.75it/s]\n"
     ]
    },
    {
     "name": "stdout",
     "output_type": "stream",
     "text": [
      "                   all        463       1661      0.205      0.289      0.198      0.128\n",
      "\n",
      "      Epoch    GPU_mem   box_loss   cls_loss   dfl_loss  Instances       Size\n"
     ]
    },
    {
     "name": "stderr",
     "output_type": "stream",
     "text": [
      "      9/100      2.35G      1.288      2.671      1.488         56        640: 100%|██████████| 102/102 [00:14<00:00,  7.02it/s]\n",
      "                 Class     Images  Instances      Box(P          R      mAP50  mAP50-95): 100%|██████████| 15/15 [00:03<00:00,  4.90it/s]"
     ]
    },
    {
     "name": "stdout",
     "output_type": "stream",
     "text": [
      "                   all        463       1661      0.297      0.348      0.252      0.167\n"
     ]
    },
    {
     "name": "stderr",
     "output_type": "stream",
     "text": [
      "\n"
     ]
    },
    {
     "name": "stdout",
     "output_type": "stream",
     "text": [
      "\n",
      "      Epoch    GPU_mem   box_loss   cls_loss   dfl_loss  Instances       Size\n"
     ]
    },
    {
     "name": "stderr",
     "output_type": "stream",
     "text": [
      "     10/100      2.25G      1.269        2.6      1.486         67        640: 100%|██████████| 102/102 [00:14<00:00,  6.95it/s]\n",
      "                 Class     Images  Instances      Box(P          R      mAP50  mAP50-95): 100%|██████████| 15/15 [00:03<00:00,  4.54it/s]\n"
     ]
    },
    {
     "name": "stdout",
     "output_type": "stream",
     "text": [
      "                   all        463       1661      0.275      0.324       0.26      0.171\n",
      "\n",
      "      Epoch    GPU_mem   box_loss   cls_loss   dfl_loss  Instances       Size\n"
     ]
    },
    {
     "name": "stderr",
     "output_type": "stream",
     "text": [
      "     11/100      2.24G      1.265      2.542       1.48         34        640: 100%|██████████| 102/102 [00:14<00:00,  6.94it/s]\n",
      "                 Class     Images  Instances      Box(P          R      mAP50  mAP50-95): 100%|██████████| 15/15 [00:03<00:00,  5.00it/s]\n"
     ]
    },
    {
     "name": "stdout",
     "output_type": "stream",
     "text": [
      "                   all        463       1661      0.262      0.341       0.27      0.177\n",
      "\n",
      "      Epoch    GPU_mem   box_loss   cls_loss   dfl_loss  Instances       Size\n"
     ]
    },
    {
     "name": "stderr",
     "output_type": "stream",
     "text": [
      "     12/100      2.26G      1.246      2.489      1.461         27        640: 100%|██████████| 102/102 [00:14<00:00,  6.88it/s]\n",
      "                 Class     Images  Instances      Box(P          R      mAP50  mAP50-95): 100%|██████████| 15/15 [00:03<00:00,  4.83it/s]"
     ]
    },
    {
     "name": "stdout",
     "output_type": "stream",
     "text": [
      "                   all        463       1661      0.319      0.352      0.284      0.188\n"
     ]
    },
    {
     "name": "stderr",
     "output_type": "stream",
     "text": [
      "\n"
     ]
    },
    {
     "name": "stdout",
     "output_type": "stream",
     "text": [
      "\n",
      "      Epoch    GPU_mem   box_loss   cls_loss   dfl_loss  Instances       Size\n"
     ]
    },
    {
     "name": "stderr",
     "output_type": "stream",
     "text": [
      "     13/100       2.4G      1.249      2.433      1.452         24        640: 100%|██████████| 102/102 [00:14<00:00,  6.92it/s]\n",
      "                 Class     Images  Instances      Box(P          R      mAP50  mAP50-95): 100%|██████████| 15/15 [00:02<00:00,  5.22it/s]"
     ]
    },
    {
     "name": "stdout",
     "output_type": "stream",
     "text": [
      "                   all        463       1661      0.337      0.346      0.281      0.188\n"
     ]
    },
    {
     "name": "stderr",
     "output_type": "stream",
     "text": [
      "\n"
     ]
    },
    {
     "name": "stdout",
     "output_type": "stream",
     "text": [
      "\n",
      "      Epoch    GPU_mem   box_loss   cls_loss   dfl_loss  Instances       Size\n"
     ]
    },
    {
     "name": "stderr",
     "output_type": "stream",
     "text": [
      "     14/100      2.37G       1.23      2.396      1.439         36        640: 100%|██████████| 102/102 [00:14<00:00,  6.86it/s]\n",
      "                 Class     Images  Instances      Box(P          R      mAP50  mAP50-95): 100%|██████████| 15/15 [00:03<00:00,  4.80it/s]\n"
     ]
    },
    {
     "name": "stdout",
     "output_type": "stream",
     "text": [
      "                   all        463       1661      0.271       0.35      0.301      0.195\n",
      "\n",
      "      Epoch    GPU_mem   box_loss   cls_loss   dfl_loss  Instances       Size\n"
     ]
    },
    {
     "name": "stderr",
     "output_type": "stream",
     "text": [
      "     15/100      2.33G      1.225      2.357      1.443         69        640: 100%|██████████| 102/102 [00:14<00:00,  7.00it/s]\n",
      "                 Class     Images  Instances      Box(P          R      mAP50  mAP50-95): 100%|██████████| 15/15 [00:03<00:00,  4.95it/s]\n"
     ]
    },
    {
     "name": "stdout",
     "output_type": "stream",
     "text": [
      "                   all        463       1661      0.387      0.344      0.327      0.216\n",
      "\n",
      "      Epoch    GPU_mem   box_loss   cls_loss   dfl_loss  Instances       Size\n"
     ]
    },
    {
     "name": "stderr",
     "output_type": "stream",
     "text": [
      "     16/100      2.23G      1.238      2.303      1.448         19        640: 100%|██████████| 102/102 [00:14<00:00,  6.96it/s]\n",
      "                 Class     Images  Instances      Box(P          R      mAP50  mAP50-95): 100%|██████████| 15/15 [00:03<00:00,  4.85it/s]"
     ]
    },
    {
     "name": "stdout",
     "output_type": "stream",
     "text": [
      "                   all        463       1661       0.37      0.309      0.311      0.206\n"
     ]
    },
    {
     "name": "stderr",
     "output_type": "stream",
     "text": [
      "\n"
     ]
    },
    {
     "name": "stdout",
     "output_type": "stream",
     "text": [
      "\n",
      "      Epoch    GPU_mem   box_loss   cls_loss   dfl_loss  Instances       Size\n"
     ]
    },
    {
     "name": "stderr",
     "output_type": "stream",
     "text": [
      "     17/100      2.25G      1.225      2.296      1.436         24        640: 100%|██████████| 102/102 [00:14<00:00,  6.97it/s]\n",
      "                 Class     Images  Instances      Box(P          R      mAP50  mAP50-95): 100%|██████████| 15/15 [00:02<00:00,  5.10it/s]"
     ]
    },
    {
     "name": "stdout",
     "output_type": "stream",
     "text": [
      "                   all        463       1661      0.352      0.326      0.312      0.211\n"
     ]
    },
    {
     "name": "stderr",
     "output_type": "stream",
     "text": [
      "\n"
     ]
    },
    {
     "name": "stdout",
     "output_type": "stream",
     "text": [
      "\n",
      "      Epoch    GPU_mem   box_loss   cls_loss   dfl_loss  Instances       Size\n"
     ]
    },
    {
     "name": "stderr",
     "output_type": "stream",
     "text": [
      "     18/100      2.25G      1.225      2.264      1.427         29        640: 100%|██████████| 102/102 [00:14<00:00,  6.92it/s]\n",
      "                 Class     Images  Instances      Box(P          R      mAP50  mAP50-95): 100%|██████████| 15/15 [00:02<00:00,  5.24it/s]"
     ]
    },
    {
     "name": "stdout",
     "output_type": "stream",
     "text": [
      "                   all        463       1661      0.331      0.387      0.333      0.218\n"
     ]
    },
    {
     "name": "stderr",
     "output_type": "stream",
     "text": [
      "\n"
     ]
    },
    {
     "name": "stdout",
     "output_type": "stream",
     "text": [
      "\n",
      "      Epoch    GPU_mem   box_loss   cls_loss   dfl_loss  Instances       Size\n"
     ]
    },
    {
     "name": "stderr",
     "output_type": "stream",
     "text": [
      "     19/100      2.26G      1.221       2.22       1.42         50        640: 100%|██████████| 102/102 [00:14<00:00,  6.98it/s]\n",
      "                 Class     Images  Instances      Box(P          R      mAP50  mAP50-95): 100%|██████████| 15/15 [00:03<00:00,  4.98it/s]"
     ]
    },
    {
     "name": "stdout",
     "output_type": "stream",
     "text": [
      "                   all        463       1661      0.312      0.341      0.325      0.216\n"
     ]
    },
    {
     "name": "stderr",
     "output_type": "stream",
     "text": [
      "\n"
     ]
    },
    {
     "name": "stdout",
     "output_type": "stream",
     "text": [
      "\n",
      "      Epoch    GPU_mem   box_loss   cls_loss   dfl_loss  Instances       Size\n"
     ]
    },
    {
     "name": "stderr",
     "output_type": "stream",
     "text": [
      "     20/100      2.34G      1.209      2.189      1.422         40        640: 100%|██████████| 102/102 [00:14<00:00,  6.98it/s]\n",
      "                 Class     Images  Instances      Box(P          R      mAP50  mAP50-95): 100%|██████████| 15/15 [00:03<00:00,  4.97it/s]"
     ]
    },
    {
     "name": "stdout",
     "output_type": "stream",
     "text": [
      "                   all        463       1661      0.329      0.348      0.334      0.227\n"
     ]
    },
    {
     "name": "stderr",
     "output_type": "stream",
     "text": [
      "\n"
     ]
    },
    {
     "name": "stdout",
     "output_type": "stream",
     "text": [
      "\n",
      "      Epoch    GPU_mem   box_loss   cls_loss   dfl_loss  Instances       Size\n"
     ]
    },
    {
     "name": "stderr",
     "output_type": "stream",
     "text": [
      "     21/100      2.37G       1.23      2.181      1.426         92        640: 100%|██████████| 102/102 [00:14<00:00,  7.00it/s]\n",
      "                 Class     Images  Instances      Box(P          R      mAP50  mAP50-95): 100%|██████████| 15/15 [00:02<00:00,  5.18it/s]"
     ]
    },
    {
     "name": "stdout",
     "output_type": "stream",
     "text": [
      "                   all        463       1661      0.348      0.381      0.345      0.232\n"
     ]
    },
    {
     "name": "stderr",
     "output_type": "stream",
     "text": [
      "\n"
     ]
    },
    {
     "name": "stdout",
     "output_type": "stream",
     "text": [
      "\n",
      "      Epoch    GPU_mem   box_loss   cls_loss   dfl_loss  Instances       Size\n"
     ]
    },
    {
     "name": "stderr",
     "output_type": "stream",
     "text": [
      "     22/100      2.34G       1.22      2.147      1.412         40        640: 100%|██████████| 102/102 [00:14<00:00,  6.94it/s]\n",
      "                 Class     Images  Instances      Box(P          R      mAP50  mAP50-95): 100%|██████████| 15/15 [00:03<00:00,  4.78it/s]"
     ]
    },
    {
     "name": "stdout",
     "output_type": "stream",
     "text": [
      "                   all        463       1661      0.332      0.367      0.332      0.218\n"
     ]
    },
    {
     "name": "stderr",
     "output_type": "stream",
     "text": [
      "\n"
     ]
    },
    {
     "name": "stdout",
     "output_type": "stream",
     "text": [
      "\n",
      "      Epoch    GPU_mem   box_loss   cls_loss   dfl_loss  Instances       Size\n"
     ]
    },
    {
     "name": "stderr",
     "output_type": "stream",
     "text": [
      "     23/100      2.37G      1.211      2.107      1.413         33        640: 100%|██████████| 102/102 [00:14<00:00,  6.90it/s]\n",
      "                 Class     Images  Instances      Box(P          R      mAP50  mAP50-95): 100%|██████████| 15/15 [00:02<00:00,  5.05it/s]"
     ]
    },
    {
     "name": "stdout",
     "output_type": "stream",
     "text": [
      "                   all        463       1661      0.342      0.395      0.344      0.234\n"
     ]
    },
    {
     "name": "stderr",
     "output_type": "stream",
     "text": [
      "\n"
     ]
    },
    {
     "name": "stdout",
     "output_type": "stream",
     "text": [
      "\n",
      "      Epoch    GPU_mem   box_loss   cls_loss   dfl_loss  Instances       Size\n"
     ]
    },
    {
     "name": "stderr",
     "output_type": "stream",
     "text": [
      "     24/100      2.24G      1.191      2.046      1.399         43        640: 100%|██████████| 102/102 [00:14<00:00,  6.95it/s]\n",
      "                 Class     Images  Instances      Box(P          R      mAP50  mAP50-95): 100%|██████████| 15/15 [00:02<00:00,  5.17it/s]"
     ]
    },
    {
     "name": "stdout",
     "output_type": "stream",
     "text": [
      "                   all        463       1661      0.349      0.389      0.348       0.23\n"
     ]
    },
    {
     "name": "stderr",
     "output_type": "stream",
     "text": [
      "\n"
     ]
    },
    {
     "name": "stdout",
     "output_type": "stream",
     "text": [
      "\n",
      "      Epoch    GPU_mem   box_loss   cls_loss   dfl_loss  Instances       Size\n"
     ]
    },
    {
     "name": "stderr",
     "output_type": "stream",
     "text": [
      "     25/100      2.41G      1.193      2.012      1.402         37        640: 100%|██████████| 102/102 [00:14<00:00,  6.94it/s]\n",
      "                 Class     Images  Instances      Box(P          R      mAP50  mAP50-95): 100%|██████████| 15/15 [00:02<00:00,  5.08it/s]"
     ]
    },
    {
     "name": "stdout",
     "output_type": "stream",
     "text": [
      "                   all        463       1661       0.33      0.405      0.333      0.223\n"
     ]
    },
    {
     "name": "stderr",
     "output_type": "stream",
     "text": [
      "\n"
     ]
    },
    {
     "name": "stdout",
     "output_type": "stream",
     "text": [
      "\n",
      "      Epoch    GPU_mem   box_loss   cls_loss   dfl_loss  Instances       Size\n"
     ]
    },
    {
     "name": "stderr",
     "output_type": "stream",
     "text": [
      "     26/100       2.4G      1.183      2.021      1.403         50        640: 100%|██████████| 102/102 [00:14<00:00,  6.98it/s]\n",
      "                 Class     Images  Instances      Box(P          R      mAP50  mAP50-95): 100%|██████████| 15/15 [00:02<00:00,  5.38it/s]"
     ]
    },
    {
     "name": "stdout",
     "output_type": "stream",
     "text": [
      "                   all        463       1661      0.379      0.375      0.357      0.242\n"
     ]
    },
    {
     "name": "stderr",
     "output_type": "stream",
     "text": [
      "\n"
     ]
    },
    {
     "name": "stdout",
     "output_type": "stream",
     "text": [
      "\n",
      "      Epoch    GPU_mem   box_loss   cls_loss   dfl_loss  Instances       Size\n"
     ]
    },
    {
     "name": "stderr",
     "output_type": "stream",
     "text": [
      "     27/100      2.24G      1.186      1.975      1.391        101        640: 100%|██████████| 102/102 [00:14<00:00,  6.95it/s]\n",
      "                 Class     Images  Instances      Box(P          R      mAP50  mAP50-95): 100%|██████████| 15/15 [00:02<00:00,  5.06it/s]"
     ]
    },
    {
     "name": "stdout",
     "output_type": "stream",
     "text": [
      "                   all        463       1661      0.389      0.405      0.362      0.244\n"
     ]
    },
    {
     "name": "stderr",
     "output_type": "stream",
     "text": [
      "\n"
     ]
    },
    {
     "name": "stdout",
     "output_type": "stream",
     "text": [
      "\n",
      "      Epoch    GPU_mem   box_loss   cls_loss   dfl_loss  Instances       Size\n"
     ]
    },
    {
     "name": "stderr",
     "output_type": "stream",
     "text": [
      "     28/100      2.36G      1.176      1.944      1.391         34        640: 100%|██████████| 102/102 [00:14<00:00,  6.91it/s]\n",
      "                 Class     Images  Instances      Box(P          R      mAP50  mAP50-95): 100%|██████████| 15/15 [00:02<00:00,  5.17it/s]\n"
     ]
    },
    {
     "name": "stdout",
     "output_type": "stream",
     "text": [
      "                   all        463       1661      0.402      0.393      0.371      0.251\n",
      "\n",
      "      Epoch    GPU_mem   box_loss   cls_loss   dfl_loss  Instances       Size\n"
     ]
    },
    {
     "name": "stderr",
     "output_type": "stream",
     "text": [
      "     29/100      2.26G      1.177      1.887      1.379         47        640: 100%|██████████| 102/102 [00:14<00:00,  6.94it/s]\n",
      "                 Class     Images  Instances      Box(P          R      mAP50  mAP50-95): 100%|██████████| 15/15 [00:02<00:00,  5.26it/s]"
     ]
    },
    {
     "name": "stdout",
     "output_type": "stream",
     "text": [
      "                   all        463       1661        0.4       0.38      0.371      0.249\n"
     ]
    },
    {
     "name": "stderr",
     "output_type": "stream",
     "text": [
      "\n"
     ]
    },
    {
     "name": "stdout",
     "output_type": "stream",
     "text": [
      "\n",
      "      Epoch    GPU_mem   box_loss   cls_loss   dfl_loss  Instances       Size\n"
     ]
    },
    {
     "name": "stderr",
     "output_type": "stream",
     "text": [
      "     30/100      2.36G      1.178      1.892      1.382         27        640: 100%|██████████| 102/102 [00:14<00:00,  7.01it/s]\n",
      "                 Class     Images  Instances      Box(P          R      mAP50  mAP50-95): 100%|██████████| 15/15 [00:02<00:00,  5.24it/s]"
     ]
    },
    {
     "name": "stdout",
     "output_type": "stream",
     "text": [
      "                   all        463       1661      0.346      0.404      0.356      0.243\n"
     ]
    },
    {
     "name": "stderr",
     "output_type": "stream",
     "text": [
      "\n"
     ]
    },
    {
     "name": "stdout",
     "output_type": "stream",
     "text": [
      "\n",
      "      Epoch    GPU_mem   box_loss   cls_loss   dfl_loss  Instances       Size\n"
     ]
    },
    {
     "name": "stderr",
     "output_type": "stream",
     "text": [
      "     31/100      2.37G      1.178      1.876      1.377         32        640: 100%|██████████| 102/102 [00:14<00:00,  6.98it/s]\n",
      "                 Class     Images  Instances      Box(P          R      mAP50  mAP50-95): 100%|██████████| 15/15 [00:02<00:00,  5.21it/s]"
     ]
    },
    {
     "name": "stdout",
     "output_type": "stream",
     "text": [
      "                   all        463       1661      0.367      0.388       0.36      0.244\n"
     ]
    },
    {
     "name": "stderr",
     "output_type": "stream",
     "text": [
      "\n"
     ]
    },
    {
     "name": "stdout",
     "output_type": "stream",
     "text": [
      "\n",
      "      Epoch    GPU_mem   box_loss   cls_loss   dfl_loss  Instances       Size\n"
     ]
    },
    {
     "name": "stderr",
     "output_type": "stream",
     "text": [
      "     32/100      2.42G      1.186      1.868       1.39         32        640: 100%|██████████| 102/102 [00:14<00:00,  6.95it/s]\n",
      "                 Class     Images  Instances      Box(P          R      mAP50  mAP50-95): 100%|██████████| 15/15 [00:02<00:00,  5.28it/s]"
     ]
    },
    {
     "name": "stdout",
     "output_type": "stream",
     "text": [
      "                   all        463       1661      0.385      0.404      0.368      0.254\n"
     ]
    },
    {
     "name": "stderr",
     "output_type": "stream",
     "text": [
      "\n"
     ]
    },
    {
     "name": "stdout",
     "output_type": "stream",
     "text": [
      "\n",
      "      Epoch    GPU_mem   box_loss   cls_loss   dfl_loss  Instances       Size\n"
     ]
    },
    {
     "name": "stderr",
     "output_type": "stream",
     "text": [
      "     33/100      2.41G      1.171      1.827      1.374         36        640: 100%|██████████| 102/102 [00:14<00:00,  6.98it/s]\n",
      "                 Class     Images  Instances      Box(P          R      mAP50  mAP50-95): 100%|██████████| 15/15 [00:02<00:00,  5.24it/s]"
     ]
    },
    {
     "name": "stdout",
     "output_type": "stream",
     "text": [
      "                   all        463       1661      0.425      0.377      0.367       0.25\n"
     ]
    },
    {
     "name": "stderr",
     "output_type": "stream",
     "text": [
      "\n"
     ]
    },
    {
     "name": "stdout",
     "output_type": "stream",
     "text": [
      "\n",
      "      Epoch    GPU_mem   box_loss   cls_loss   dfl_loss  Instances       Size\n"
     ]
    },
    {
     "name": "stderr",
     "output_type": "stream",
     "text": [
      "     34/100      2.37G      1.165      1.794       1.37         39        640: 100%|██████████| 102/102 [00:14<00:00,  6.93it/s]\n",
      "                 Class     Images  Instances      Box(P          R      mAP50  mAP50-95): 100%|██████████| 15/15 [00:02<00:00,  5.27it/s]"
     ]
    },
    {
     "name": "stdout",
     "output_type": "stream",
     "text": [
      "                   all        463       1661      0.365      0.447      0.385      0.261\n"
     ]
    },
    {
     "name": "stderr",
     "output_type": "stream",
     "text": [
      "\n"
     ]
    },
    {
     "name": "stdout",
     "output_type": "stream",
     "text": [
      "\n",
      "      Epoch    GPU_mem   box_loss   cls_loss   dfl_loss  Instances       Size\n"
     ]
    },
    {
     "name": "stderr",
     "output_type": "stream",
     "text": [
      "     35/100      2.25G      1.167      1.795      1.379         37        640: 100%|██████████| 102/102 [00:14<00:00,  6.90it/s]\n",
      "                 Class     Images  Instances      Box(P          R      mAP50  mAP50-95): 100%|██████████| 15/15 [00:02<00:00,  5.03it/s]"
     ]
    },
    {
     "name": "stdout",
     "output_type": "stream",
     "text": [
      "                   all        463       1661       0.39       0.42       0.38      0.257\n"
     ]
    },
    {
     "name": "stderr",
     "output_type": "stream",
     "text": [
      "\n"
     ]
    },
    {
     "name": "stdout",
     "output_type": "stream",
     "text": [
      "\n",
      "      Epoch    GPU_mem   box_loss   cls_loss   dfl_loss  Instances       Size\n"
     ]
    },
    {
     "name": "stderr",
     "output_type": "stream",
     "text": [
      "     36/100      2.37G      1.166      1.788      1.372         48        640: 100%|██████████| 102/102 [00:14<00:00,  6.98it/s]\n",
      "                 Class     Images  Instances      Box(P          R      mAP50  mAP50-95): 100%|██████████| 15/15 [00:02<00:00,  5.10it/s]"
     ]
    },
    {
     "name": "stdout",
     "output_type": "stream",
     "text": [
      "                   all        463       1661      0.359      0.412      0.354      0.234\n"
     ]
    },
    {
     "name": "stderr",
     "output_type": "stream",
     "text": [
      "\n"
     ]
    },
    {
     "name": "stdout",
     "output_type": "stream",
     "text": [
      "\n",
      "      Epoch    GPU_mem   box_loss   cls_loss   dfl_loss  Instances       Size\n"
     ]
    },
    {
     "name": "stderr",
     "output_type": "stream",
     "text": [
      "     37/100      2.41G      1.154      1.744      1.362         35        640: 100%|██████████| 102/102 [00:14<00:00,  6.91it/s]\n",
      "                 Class     Images  Instances      Box(P          R      mAP50  mAP50-95): 100%|██████████| 15/15 [00:02<00:00,  5.41it/s]"
     ]
    },
    {
     "name": "stdout",
     "output_type": "stream",
     "text": [
      "                   all        463       1661      0.426      0.385      0.364      0.241\n"
     ]
    },
    {
     "name": "stderr",
     "output_type": "stream",
     "text": [
      "\n"
     ]
    },
    {
     "name": "stdout",
     "output_type": "stream",
     "text": [
      "\n",
      "      Epoch    GPU_mem   box_loss   cls_loss   dfl_loss  Instances       Size\n"
     ]
    },
    {
     "name": "stderr",
     "output_type": "stream",
     "text": [
      "     38/100      2.42G      1.133      1.671      1.349         39        640: 100%|██████████| 102/102 [00:14<00:00,  6.97it/s]\n",
      "                 Class     Images  Instances      Box(P          R      mAP50  mAP50-95): 100%|██████████| 15/15 [00:02<00:00,  5.23it/s]"
     ]
    },
    {
     "name": "stdout",
     "output_type": "stream",
     "text": [
      "                   all        463       1661      0.385      0.416      0.376      0.259\n"
     ]
    },
    {
     "name": "stderr",
     "output_type": "stream",
     "text": [
      "\n"
     ]
    },
    {
     "name": "stdout",
     "output_type": "stream",
     "text": [
      "\n",
      "      Epoch    GPU_mem   box_loss   cls_loss   dfl_loss  Instances       Size\n"
     ]
    },
    {
     "name": "stderr",
     "output_type": "stream",
     "text": [
      "     39/100      2.37G      1.148       1.73      1.359         37        640: 100%|██████████| 102/102 [00:14<00:00,  6.97it/s]\n",
      "                 Class     Images  Instances      Box(P          R      mAP50  mAP50-95): 100%|██████████| 15/15 [00:03<00:00,  4.95it/s]"
     ]
    },
    {
     "name": "stdout",
     "output_type": "stream",
     "text": [
      "                   all        463       1661      0.371      0.436      0.382      0.263\n"
     ]
    },
    {
     "name": "stderr",
     "output_type": "stream",
     "text": [
      "\n"
     ]
    },
    {
     "name": "stdout",
     "output_type": "stream",
     "text": [
      "\n",
      "      Epoch    GPU_mem   box_loss   cls_loss   dfl_loss  Instances       Size\n"
     ]
    },
    {
     "name": "stderr",
     "output_type": "stream",
     "text": [
      "     40/100      2.25G      1.126      1.699      1.348         31        640: 100%|██████████| 102/102 [00:14<00:00,  6.93it/s]\n",
      "                 Class     Images  Instances      Box(P          R      mAP50  mAP50-95): 100%|██████████| 15/15 [00:03<00:00,  4.92it/s]\n"
     ]
    },
    {
     "name": "stdout",
     "output_type": "stream",
     "text": [
      "                   all        463       1661      0.392      0.404      0.382       0.26\n",
      "\n",
      "      Epoch    GPU_mem   box_loss   cls_loss   dfl_loss  Instances       Size\n"
     ]
    },
    {
     "name": "stderr",
     "output_type": "stream",
     "text": [
      "     41/100      2.23G      1.127      1.655       1.35         43        640: 100%|██████████| 102/102 [00:14<00:00,  6.95it/s]\n",
      "                 Class     Images  Instances      Box(P          R      mAP50  mAP50-95): 100%|██████████| 15/15 [00:02<00:00,  5.29it/s]"
     ]
    },
    {
     "name": "stdout",
     "output_type": "stream",
     "text": [
      "                   all        463       1661      0.395      0.425      0.372      0.247\n"
     ]
    },
    {
     "name": "stderr",
     "output_type": "stream",
     "text": [
      "\n"
     ]
    },
    {
     "name": "stdout",
     "output_type": "stream",
     "text": [
      "\n",
      "      Epoch    GPU_mem   box_loss   cls_loss   dfl_loss  Instances       Size\n"
     ]
    },
    {
     "name": "stderr",
     "output_type": "stream",
     "text": [
      "     42/100      2.36G      1.122      1.677      1.347         40        640: 100%|██████████| 102/102 [00:14<00:00,  6.96it/s]\n",
      "                 Class     Images  Instances      Box(P          R      mAP50  mAP50-95): 100%|██████████| 15/15 [00:02<00:00,  5.05it/s]"
     ]
    },
    {
     "name": "stdout",
     "output_type": "stream",
     "text": [
      "                   all        463       1661      0.421      0.416      0.382      0.261\n"
     ]
    },
    {
     "name": "stderr",
     "output_type": "stream",
     "text": [
      "\n"
     ]
    },
    {
     "name": "stdout",
     "output_type": "stream",
     "text": [
      "\n",
      "      Epoch    GPU_mem   box_loss   cls_loss   dfl_loss  Instances       Size\n"
     ]
    },
    {
     "name": "stderr",
     "output_type": "stream",
     "text": [
      "     43/100      2.37G      1.118      1.654      1.341         27        640: 100%|██████████| 102/102 [00:14<00:00,  6.96it/s]\n",
      "                 Class     Images  Instances      Box(P          R      mAP50  mAP50-95): 100%|██████████| 15/15 [00:02<00:00,  5.23it/s]"
     ]
    },
    {
     "name": "stdout",
     "output_type": "stream",
     "text": [
      "                   all        463       1661      0.415      0.401       0.38      0.264\n"
     ]
    },
    {
     "name": "stderr",
     "output_type": "stream",
     "text": [
      "\n"
     ]
    },
    {
     "name": "stdout",
     "output_type": "stream",
     "text": [
      "\n",
      "      Epoch    GPU_mem   box_loss   cls_loss   dfl_loss  Instances       Size\n"
     ]
    },
    {
     "name": "stderr",
     "output_type": "stream",
     "text": [
      "     44/100      2.26G      1.136      1.666      1.345         29        640: 100%|██████████| 102/102 [00:14<00:00,  6.89it/s]\n",
      "                 Class     Images  Instances      Box(P          R      mAP50  mAP50-95): 100%|██████████| 15/15 [00:02<00:00,  5.56it/s]"
     ]
    },
    {
     "name": "stdout",
     "output_type": "stream",
     "text": [
      "                   all        463       1661      0.415      0.446      0.404      0.275\n"
     ]
    },
    {
     "name": "stderr",
     "output_type": "stream",
     "text": [
      "\n"
     ]
    },
    {
     "name": "stdout",
     "output_type": "stream",
     "text": [
      "\n",
      "      Epoch    GPU_mem   box_loss   cls_loss   dfl_loss  Instances       Size\n"
     ]
    },
    {
     "name": "stderr",
     "output_type": "stream",
     "text": [
      "     45/100       2.4G      1.118      1.627      1.336         28        640: 100%|██████████| 102/102 [00:14<00:00,  6.87it/s]\n",
      "                 Class     Images  Instances      Box(P          R      mAP50  mAP50-95): 100%|██████████| 15/15 [00:02<00:00,  5.29it/s]"
     ]
    },
    {
     "name": "stdout",
     "output_type": "stream",
     "text": [
      "                   all        463       1661      0.419      0.413      0.391      0.269\n"
     ]
    },
    {
     "name": "stderr",
     "output_type": "stream",
     "text": [
      "\n"
     ]
    },
    {
     "name": "stdout",
     "output_type": "stream",
     "text": [
      "\n",
      "      Epoch    GPU_mem   box_loss   cls_loss   dfl_loss  Instances       Size\n"
     ]
    },
    {
     "name": "stderr",
     "output_type": "stream",
     "text": [
      "     46/100      2.41G      1.135      1.618      1.334         68        640: 100%|██████████| 102/102 [00:14<00:00,  6.87it/s]\n",
      "                 Class     Images  Instances      Box(P          R      mAP50  mAP50-95): 100%|██████████| 15/15 [00:02<00:00,  5.02it/s]"
     ]
    },
    {
     "name": "stdout",
     "output_type": "stream",
     "text": [
      "                   all        463       1661      0.441        0.4      0.397      0.272\n"
     ]
    },
    {
     "name": "stderr",
     "output_type": "stream",
     "text": [
      "\n"
     ]
    },
    {
     "name": "stdout",
     "output_type": "stream",
     "text": [
      "\n",
      "      Epoch    GPU_mem   box_loss   cls_loss   dfl_loss  Instances       Size\n"
     ]
    },
    {
     "name": "stderr",
     "output_type": "stream",
     "text": [
      "     47/100       2.3G      1.102      1.567      1.323         40        640: 100%|██████████| 102/102 [00:14<00:00,  6.90it/s]\n",
      "                 Class     Images  Instances      Box(P          R      mAP50  mAP50-95): 100%|██████████| 15/15 [00:02<00:00,  5.35it/s]"
     ]
    },
    {
     "name": "stdout",
     "output_type": "stream",
     "text": [
      "                   all        463       1661        0.4      0.426      0.386      0.263\n"
     ]
    },
    {
     "name": "stderr",
     "output_type": "stream",
     "text": [
      "\n"
     ]
    },
    {
     "name": "stdout",
     "output_type": "stream",
     "text": [
      "\n",
      "      Epoch    GPU_mem   box_loss   cls_loss   dfl_loss  Instances       Size\n"
     ]
    },
    {
     "name": "stderr",
     "output_type": "stream",
     "text": [
      "     48/100       2.4G       1.12      1.581      1.337         16        640: 100%|██████████| 102/102 [00:14<00:00,  6.95it/s]\n",
      "                 Class     Images  Instances      Box(P          R      mAP50  mAP50-95): 100%|██████████| 15/15 [00:03<00:00,  4.97it/s]"
     ]
    },
    {
     "name": "stdout",
     "output_type": "stream",
     "text": [
      "                   all        463       1661      0.379      0.427      0.381      0.259\n"
     ]
    },
    {
     "name": "stderr",
     "output_type": "stream",
     "text": [
      "\n"
     ]
    },
    {
     "name": "stdout",
     "output_type": "stream",
     "text": [
      "\n",
      "      Epoch    GPU_mem   box_loss   cls_loss   dfl_loss  Instances       Size\n"
     ]
    },
    {
     "name": "stderr",
     "output_type": "stream",
     "text": [
      "     49/100      2.33G      1.119      1.541      1.335         32        640: 100%|██████████| 102/102 [00:14<00:00,  6.94it/s]\n",
      "                 Class     Images  Instances      Box(P          R      mAP50  mAP50-95): 100%|██████████| 15/15 [00:02<00:00,  5.01it/s]"
     ]
    },
    {
     "name": "stdout",
     "output_type": "stream",
     "text": [
      "                   all        463       1661      0.413      0.401      0.395      0.271\n"
     ]
    },
    {
     "name": "stderr",
     "output_type": "stream",
     "text": [
      "\n"
     ]
    },
    {
     "name": "stdout",
     "output_type": "stream",
     "text": [
      "\n",
      "      Epoch    GPU_mem   box_loss   cls_loss   dfl_loss  Instances       Size\n"
     ]
    },
    {
     "name": "stderr",
     "output_type": "stream",
     "text": [
      "     50/100      2.25G        1.1      1.535      1.323         45        640: 100%|██████████| 102/102 [00:14<00:00,  6.88it/s]\n",
      "                 Class     Images  Instances      Box(P          R      mAP50  mAP50-95): 100%|██████████| 15/15 [00:02<00:00,  5.29it/s]"
     ]
    },
    {
     "name": "stdout",
     "output_type": "stream",
     "text": [
      "                   all        463       1661      0.423      0.413      0.402      0.279\n"
     ]
    },
    {
     "name": "stderr",
     "output_type": "stream",
     "text": [
      "\n"
     ]
    },
    {
     "name": "stdout",
     "output_type": "stream",
     "text": [
      "\n",
      "      Epoch    GPU_mem   box_loss   cls_loss   dfl_loss  Instances       Size\n"
     ]
    },
    {
     "name": "stderr",
     "output_type": "stream",
     "text": [
      "     51/100      2.37G        1.1      1.541      1.317         33        640: 100%|██████████| 102/102 [00:14<00:00,  6.99it/s]\n",
      "                 Class     Images  Instances      Box(P          R      mAP50  mAP50-95): 100%|██████████| 15/15 [00:02<00:00,  5.22it/s]"
     ]
    },
    {
     "name": "stdout",
     "output_type": "stream",
     "text": [
      "                   all        463       1661      0.399        0.4      0.392      0.269\n"
     ]
    },
    {
     "name": "stderr",
     "output_type": "stream",
     "text": [
      "\n"
     ]
    },
    {
     "name": "stdout",
     "output_type": "stream",
     "text": [
      "\n",
      "      Epoch    GPU_mem   box_loss   cls_loss   dfl_loss  Instances       Size\n"
     ]
    },
    {
     "name": "stderr",
     "output_type": "stream",
     "text": [
      "     52/100      2.41G       1.09      1.493      1.312         23        640: 100%|██████████| 102/102 [00:14<00:00,  6.88it/s]\n",
      "                 Class     Images  Instances      Box(P          R      mAP50  mAP50-95): 100%|██████████| 15/15 [00:02<00:00,  5.49it/s]"
     ]
    },
    {
     "name": "stdout",
     "output_type": "stream",
     "text": [
      "                   all        463       1661      0.414      0.387      0.384      0.263\n"
     ]
    },
    {
     "name": "stderr",
     "output_type": "stream",
     "text": [
      "\n"
     ]
    },
    {
     "name": "stdout",
     "output_type": "stream",
     "text": [
      "\n",
      "      Epoch    GPU_mem   box_loss   cls_loss   dfl_loss  Instances       Size\n"
     ]
    },
    {
     "name": "stderr",
     "output_type": "stream",
     "text": [
      "     53/100      2.29G      1.095      1.515      1.319         19        640: 100%|██████████| 102/102 [00:14<00:00,  7.00it/s]\n",
      "                 Class     Images  Instances      Box(P          R      mAP50  mAP50-95): 100%|██████████| 15/15 [00:02<00:00,  5.31it/s]"
     ]
    },
    {
     "name": "stdout",
     "output_type": "stream",
     "text": [
      "                   all        463       1661      0.372      0.439      0.386      0.264\n"
     ]
    },
    {
     "name": "stderr",
     "output_type": "stream",
     "text": [
      "\n"
     ]
    },
    {
     "name": "stdout",
     "output_type": "stream",
     "text": [
      "\n",
      "      Epoch    GPU_mem   box_loss   cls_loss   dfl_loss  Instances       Size\n"
     ]
    },
    {
     "name": "stderr",
     "output_type": "stream",
     "text": [
      "     54/100      2.38G       1.09        1.5      1.309         32        640: 100%|██████████| 102/102 [00:14<00:00,  6.98it/s]\n",
      "                 Class     Images  Instances      Box(P          R      mAP50  mAP50-95): 100%|██████████| 15/15 [00:02<00:00,  5.34it/s]"
     ]
    },
    {
     "name": "stdout",
     "output_type": "stream",
     "text": [
      "                   all        463       1661      0.476      0.369      0.388      0.265\n"
     ]
    },
    {
     "name": "stderr",
     "output_type": "stream",
     "text": [
      "\n"
     ]
    },
    {
     "name": "stdout",
     "output_type": "stream",
     "text": [
      "\n",
      "      Epoch    GPU_mem   box_loss   cls_loss   dfl_loss  Instances       Size\n"
     ]
    },
    {
     "name": "stderr",
     "output_type": "stream",
     "text": [
      "     55/100      2.29G      1.073       1.48      1.308         54        640: 100%|██████████| 102/102 [00:14<00:00,  6.97it/s]\n",
      "                 Class     Images  Instances      Box(P          R      mAP50  mAP50-95): 100%|██████████| 15/15 [00:02<00:00,  5.48it/s]"
     ]
    },
    {
     "name": "stdout",
     "output_type": "stream",
     "text": [
      "                   all        463       1661      0.427      0.411      0.395      0.269\n"
     ]
    },
    {
     "name": "stderr",
     "output_type": "stream",
     "text": [
      "\n"
     ]
    },
    {
     "name": "stdout",
     "output_type": "stream",
     "text": [
      "\n",
      "      Epoch    GPU_mem   box_loss   cls_loss   dfl_loss  Instances       Size\n"
     ]
    },
    {
     "name": "stderr",
     "output_type": "stream",
     "text": [
      "     56/100      2.24G      1.093      1.452      1.309         28        640: 100%|██████████| 102/102 [00:14<00:00,  6.91it/s]\n",
      "                 Class     Images  Instances      Box(P          R      mAP50  mAP50-95): 100%|██████████| 15/15 [00:02<00:00,  5.36it/s]\n"
     ]
    },
    {
     "name": "stdout",
     "output_type": "stream",
     "text": [
      "                   all        463       1661      0.428       0.42      0.403       0.28\n",
      "\n",
      "      Epoch    GPU_mem   box_loss   cls_loss   dfl_loss  Instances       Size\n"
     ]
    },
    {
     "name": "stderr",
     "output_type": "stream",
     "text": [
      "     57/100      2.26G      1.062      1.454      1.302         23        640: 100%|██████████| 102/102 [00:14<00:00,  6.93it/s]\n",
      "                 Class     Images  Instances      Box(P          R      mAP50  mAP50-95): 100%|██████████| 15/15 [00:02<00:00,  5.55it/s]"
     ]
    },
    {
     "name": "stdout",
     "output_type": "stream",
     "text": [
      "                   all        463       1661      0.403      0.418      0.378      0.258\n"
     ]
    },
    {
     "name": "stderr",
     "output_type": "stream",
     "text": [
      "\n"
     ]
    },
    {
     "name": "stdout",
     "output_type": "stream",
     "text": [
      "\n",
      "      Epoch    GPU_mem   box_loss   cls_loss   dfl_loss  Instances       Size\n"
     ]
    },
    {
     "name": "stderr",
     "output_type": "stream",
     "text": [
      "     58/100      2.36G      1.091      1.454      1.311         24        640: 100%|██████████| 102/102 [00:14<00:00,  6.93it/s]\n",
      "                 Class     Images  Instances      Box(P          R      mAP50  mAP50-95): 100%|██████████| 15/15 [00:02<00:00,  5.07it/s]"
     ]
    },
    {
     "name": "stdout",
     "output_type": "stream",
     "text": [
      "                   all        463       1661      0.453      0.373      0.383      0.263\n"
     ]
    },
    {
     "name": "stderr",
     "output_type": "stream",
     "text": [
      "\n"
     ]
    },
    {
     "name": "stdout",
     "output_type": "stream",
     "text": [
      "\n",
      "      Epoch    GPU_mem   box_loss   cls_loss   dfl_loss  Instances       Size\n"
     ]
    },
    {
     "name": "stderr",
     "output_type": "stream",
     "text": [
      "     59/100      2.39G      1.076      1.433      1.301         54        640: 100%|██████████| 102/102 [00:14<00:00,  6.97it/s]\n",
      "                 Class     Images  Instances      Box(P          R      mAP50  mAP50-95): 100%|██████████| 15/15 [00:02<00:00,  5.53it/s]"
     ]
    },
    {
     "name": "stdout",
     "output_type": "stream",
     "text": [
      "                   all        463       1661      0.456      0.385      0.389      0.272\n"
     ]
    },
    {
     "name": "stderr",
     "output_type": "stream",
     "text": [
      "\n"
     ]
    },
    {
     "name": "stdout",
     "output_type": "stream",
     "text": [
      "\n",
      "      Epoch    GPU_mem   box_loss   cls_loss   dfl_loss  Instances       Size\n"
     ]
    },
    {
     "name": "stderr",
     "output_type": "stream",
     "text": [
      "     60/100      2.36G      1.068      1.402      1.302         37        640: 100%|██████████| 102/102 [00:14<00:00,  6.95it/s]\n",
      "                 Class     Images  Instances      Box(P          R      mAP50  mAP50-95): 100%|██████████| 15/15 [00:02<00:00,  5.18it/s]"
     ]
    },
    {
     "name": "stdout",
     "output_type": "stream",
     "text": [
      "                   all        463       1661      0.444      0.386      0.382      0.261\n"
     ]
    },
    {
     "name": "stderr",
     "output_type": "stream",
     "text": [
      "\n"
     ]
    },
    {
     "name": "stdout",
     "output_type": "stream",
     "text": [
      "\n",
      "      Epoch    GPU_mem   box_loss   cls_loss   dfl_loss  Instances       Size\n"
     ]
    },
    {
     "name": "stderr",
     "output_type": "stream",
     "text": [
      "     61/100       2.4G      1.053      1.394      1.292         43        640: 100%|██████████| 102/102 [00:14<00:00,  6.98it/s]\n",
      "                 Class     Images  Instances      Box(P          R      mAP50  mAP50-95): 100%|██████████| 15/15 [00:02<00:00,  5.19it/s]"
     ]
    },
    {
     "name": "stdout",
     "output_type": "stream",
     "text": [
      "                   all        463       1661      0.495      0.382      0.401       0.28\n"
     ]
    },
    {
     "name": "stderr",
     "output_type": "stream",
     "text": [
      "\n"
     ]
    },
    {
     "name": "stdout",
     "output_type": "stream",
     "text": [
      "\n",
      "      Epoch    GPU_mem   box_loss   cls_loss   dfl_loss  Instances       Size\n"
     ]
    },
    {
     "name": "stderr",
     "output_type": "stream",
     "text": [
      "     62/100      2.25G       1.06      1.398      1.295         35        640: 100%|██████████| 102/102 [00:14<00:00,  6.96it/s]\n",
      "                 Class     Images  Instances      Box(P          R      mAP50  mAP50-95): 100%|██████████| 15/15 [00:02<00:00,  5.35it/s]"
     ]
    },
    {
     "name": "stdout",
     "output_type": "stream",
     "text": [
      "                   all        463       1661       0.43      0.421      0.406      0.277\n"
     ]
    },
    {
     "name": "stderr",
     "output_type": "stream",
     "text": [
      "\n"
     ]
    },
    {
     "name": "stdout",
     "output_type": "stream",
     "text": [
      "\n",
      "      Epoch    GPU_mem   box_loss   cls_loss   dfl_loss  Instances       Size\n"
     ]
    },
    {
     "name": "stderr",
     "output_type": "stream",
     "text": [
      "     63/100      2.41G      1.071      1.379       1.29         29        640: 100%|██████████| 102/102 [00:14<00:00,  6.96it/s]\n",
      "                 Class     Images  Instances      Box(P          R      mAP50  mAP50-95): 100%|██████████| 15/15 [00:02<00:00,  5.50it/s]"
     ]
    },
    {
     "name": "stdout",
     "output_type": "stream",
     "text": [
      "                   all        463       1661      0.416      0.382      0.377       0.26\n"
     ]
    },
    {
     "name": "stderr",
     "output_type": "stream",
     "text": [
      "\n"
     ]
    },
    {
     "name": "stdout",
     "output_type": "stream",
     "text": [
      "\n",
      "      Epoch    GPU_mem   box_loss   cls_loss   dfl_loss  Instances       Size\n"
     ]
    },
    {
     "name": "stderr",
     "output_type": "stream",
     "text": [
      "     64/100      2.36G       1.07      1.384      1.296         32        640: 100%|██████████| 102/102 [00:14<00:00,  6.95it/s]\n",
      "                 Class     Images  Instances      Box(P          R      mAP50  mAP50-95): 100%|██████████| 15/15 [00:02<00:00,  5.50it/s]"
     ]
    },
    {
     "name": "stdout",
     "output_type": "stream",
     "text": [
      "                   all        463       1661      0.498      0.365      0.405      0.279\n"
     ]
    },
    {
     "name": "stderr",
     "output_type": "stream",
     "text": [
      "\n"
     ]
    },
    {
     "name": "stdout",
     "output_type": "stream",
     "text": [
      "\n",
      "      Epoch    GPU_mem   box_loss   cls_loss   dfl_loss  Instances       Size\n"
     ]
    },
    {
     "name": "stderr",
     "output_type": "stream",
     "text": [
      "     65/100      2.24G      1.057      1.356      1.293         28        640: 100%|██████████| 102/102 [00:14<00:00,  6.95it/s]\n",
      "                 Class     Images  Instances      Box(P          R      mAP50  mAP50-95): 100%|██████████| 15/15 [00:02<00:00,  5.19it/s]"
     ]
    },
    {
     "name": "stdout",
     "output_type": "stream",
     "text": [
      "                   all        463       1661      0.452      0.404      0.399      0.276\n"
     ]
    },
    {
     "name": "stderr",
     "output_type": "stream",
     "text": [
      "\n"
     ]
    },
    {
     "name": "stdout",
     "output_type": "stream",
     "text": [
      "\n",
      "      Epoch    GPU_mem   box_loss   cls_loss   dfl_loss  Instances       Size\n"
     ]
    },
    {
     "name": "stderr",
     "output_type": "stream",
     "text": [
      "     66/100      2.25G      1.058      1.403      1.296         43        640: 100%|██████████| 102/102 [00:14<00:00,  6.92it/s]\n",
      "                 Class     Images  Instances      Box(P          R      mAP50  mAP50-95): 100%|██████████| 15/15 [00:02<00:00,  5.05it/s]"
     ]
    },
    {
     "name": "stdout",
     "output_type": "stream",
     "text": [
      "                   all        463       1661      0.403      0.436      0.397      0.273\n"
     ]
    },
    {
     "name": "stderr",
     "output_type": "stream",
     "text": [
      "\n"
     ]
    },
    {
     "name": "stdout",
     "output_type": "stream",
     "text": [
      "\n",
      "      Epoch    GPU_mem   box_loss   cls_loss   dfl_loss  Instances       Size\n"
     ]
    },
    {
     "name": "stderr",
     "output_type": "stream",
     "text": [
      "     67/100      2.42G      1.057      1.354      1.293         33        640: 100%|██████████| 102/102 [00:14<00:00,  6.95it/s]\n",
      "                 Class     Images  Instances      Box(P          R      mAP50  mAP50-95): 100%|██████████| 15/15 [00:02<00:00,  5.65it/s]"
     ]
    },
    {
     "name": "stdout",
     "output_type": "stream",
     "text": [
      "                   all        463       1661      0.469      0.406      0.398      0.276\n"
     ]
    },
    {
     "name": "stderr",
     "output_type": "stream",
     "text": [
      "\n"
     ]
    },
    {
     "name": "stdout",
     "output_type": "stream",
     "text": [
      "\n",
      "      Epoch    GPU_mem   box_loss   cls_loss   dfl_loss  Instances       Size\n"
     ]
    },
    {
     "name": "stderr",
     "output_type": "stream",
     "text": [
      "     68/100      2.41G      1.054      1.321      1.279         37        640: 100%|██████████| 102/102 [00:14<00:00,  6.93it/s]\n",
      "                 Class     Images  Instances      Box(P          R      mAP50  mAP50-95): 100%|██████████| 15/15 [00:02<00:00,  5.19it/s]"
     ]
    },
    {
     "name": "stdout",
     "output_type": "stream",
     "text": [
      "                   all        463       1661      0.422      0.416       0.39      0.268\n"
     ]
    },
    {
     "name": "stderr",
     "output_type": "stream",
     "text": [
      "\n"
     ]
    },
    {
     "name": "stdout",
     "output_type": "stream",
     "text": [
      "\n",
      "      Epoch    GPU_mem   box_loss   cls_loss   dfl_loss  Instances       Size\n"
     ]
    },
    {
     "name": "stderr",
     "output_type": "stream",
     "text": [
      "     69/100      2.25G      1.066      1.351      1.292         43        640: 100%|██████████| 102/102 [00:14<00:00,  6.91it/s]\n",
      "                 Class     Images  Instances      Box(P          R      mAP50  mAP50-95): 100%|██████████| 15/15 [00:02<00:00,  5.22it/s]"
     ]
    },
    {
     "name": "stdout",
     "output_type": "stream",
     "text": [
      "                   all        463       1661      0.459      0.377      0.389       0.27\n"
     ]
    },
    {
     "name": "stderr",
     "output_type": "stream",
     "text": [
      "\n"
     ]
    },
    {
     "name": "stdout",
     "output_type": "stream",
     "text": [
      "\n",
      "      Epoch    GPU_mem   box_loss   cls_loss   dfl_loss  Instances       Size\n"
     ]
    },
    {
     "name": "stderr",
     "output_type": "stream",
     "text": [
      "     70/100      2.27G      1.055       1.32      1.284         26        640: 100%|██████████| 102/102 [00:14<00:00,  6.95it/s]\n",
      "                 Class     Images  Instances      Box(P          R      mAP50  mAP50-95): 100%|██████████| 15/15 [00:02<00:00,  5.53it/s]"
     ]
    },
    {
     "name": "stdout",
     "output_type": "stream",
     "text": [
      "                   all        463       1661      0.447      0.413      0.408      0.283\n"
     ]
    },
    {
     "name": "stderr",
     "output_type": "stream",
     "text": [
      "\n"
     ]
    },
    {
     "name": "stdout",
     "output_type": "stream",
     "text": [
      "\n",
      "      Epoch    GPU_mem   box_loss   cls_loss   dfl_loss  Instances       Size\n"
     ]
    },
    {
     "name": "stderr",
     "output_type": "stream",
     "text": [
      "     71/100      2.39G      1.049      1.325      1.276         37        640: 100%|██████████| 102/102 [00:14<00:00,  6.94it/s]\n",
      "                 Class     Images  Instances      Box(P          R      mAP50  mAP50-95): 100%|██████████| 15/15 [00:02<00:00,  5.50it/s]"
     ]
    },
    {
     "name": "stdout",
     "output_type": "stream",
     "text": [
      "                   all        463       1661       0.44      0.402      0.398      0.272\n"
     ]
    },
    {
     "name": "stderr",
     "output_type": "stream",
     "text": [
      "\n"
     ]
    },
    {
     "name": "stdout",
     "output_type": "stream",
     "text": [
      "\n",
      "      Epoch    GPU_mem   box_loss   cls_loss   dfl_loss  Instances       Size\n"
     ]
    },
    {
     "name": "stderr",
     "output_type": "stream",
     "text": [
      "     72/100      2.43G      1.038      1.306      1.282         21        640: 100%|██████████| 102/102 [00:14<00:00,  7.04it/s]\n",
      "                 Class     Images  Instances      Box(P          R      mAP50  mAP50-95): 100%|██████████| 15/15 [00:02<00:00,  5.64it/s]"
     ]
    },
    {
     "name": "stdout",
     "output_type": "stream",
     "text": [
      "                   all        463       1661      0.412      0.433      0.401      0.279\n"
     ]
    },
    {
     "name": "stderr",
     "output_type": "stream",
     "text": [
      "\n"
     ]
    },
    {
     "name": "stdout",
     "output_type": "stream",
     "text": [
      "\n",
      "      Epoch    GPU_mem   box_loss   cls_loss   dfl_loss  Instances       Size\n"
     ]
    },
    {
     "name": "stderr",
     "output_type": "stream",
     "text": [
      "     73/100       2.4G      1.025       1.27      1.265         41        640: 100%|██████████| 102/102 [00:14<00:00,  6.97it/s]\n",
      "                 Class     Images  Instances      Box(P          R      mAP50  mAP50-95): 100%|██████████| 15/15 [00:02<00:00,  5.22it/s]"
     ]
    },
    {
     "name": "stdout",
     "output_type": "stream",
     "text": [
      "                   all        463       1661      0.459      0.413      0.411      0.289\n"
     ]
    },
    {
     "name": "stderr",
     "output_type": "stream",
     "text": [
      "\n"
     ]
    },
    {
     "name": "stdout",
     "output_type": "stream",
     "text": [
      "\n",
      "      Epoch    GPU_mem   box_loss   cls_loss   dfl_loss  Instances       Size\n"
     ]
    },
    {
     "name": "stderr",
     "output_type": "stream",
     "text": [
      "     74/100      2.36G      1.044      1.303      1.275         30        640: 100%|██████████| 102/102 [00:14<00:00,  6.92it/s]\n",
      "                 Class     Images  Instances      Box(P          R      mAP50  mAP50-95): 100%|██████████| 15/15 [00:02<00:00,  5.18it/s]"
     ]
    },
    {
     "name": "stdout",
     "output_type": "stream",
     "text": [
      "                   all        463       1661      0.426      0.417      0.391      0.269\n"
     ]
    },
    {
     "name": "stderr",
     "output_type": "stream",
     "text": [
      "\n"
     ]
    },
    {
     "name": "stdout",
     "output_type": "stream",
     "text": [
      "\n",
      "      Epoch    GPU_mem   box_loss   cls_loss   dfl_loss  Instances       Size\n"
     ]
    },
    {
     "name": "stderr",
     "output_type": "stream",
     "text": [
      "     75/100      2.24G      1.039      1.306      1.274         41        640: 100%|██████████| 102/102 [00:14<00:00,  6.90it/s]\n",
      "                 Class     Images  Instances      Box(P          R      mAP50  mAP50-95): 100%|██████████| 15/15 [00:02<00:00,  5.44it/s]"
     ]
    },
    {
     "name": "stdout",
     "output_type": "stream",
     "text": [
      "                   all        463       1661      0.435      0.398      0.392      0.271\n"
     ]
    },
    {
     "name": "stderr",
     "output_type": "stream",
     "text": [
      "\n"
     ]
    },
    {
     "name": "stdout",
     "output_type": "stream",
     "text": [
      "\n",
      "      Epoch    GPU_mem   box_loss   cls_loss   dfl_loss  Instances       Size\n"
     ]
    },
    {
     "name": "stderr",
     "output_type": "stream",
     "text": [
      "     76/100      2.38G      1.028      1.278      1.263         37        640: 100%|██████████| 102/102 [00:14<00:00,  6.99it/s]\n",
      "                 Class     Images  Instances      Box(P          R      mAP50  mAP50-95): 100%|██████████| 15/15 [00:02<00:00,  5.48it/s]"
     ]
    },
    {
     "name": "stdout",
     "output_type": "stream",
     "text": [
      "                   all        463       1661       0.43      0.415      0.404      0.277\n"
     ]
    },
    {
     "name": "stderr",
     "output_type": "stream",
     "text": [
      "\n"
     ]
    },
    {
     "name": "stdout",
     "output_type": "stream",
     "text": [
      "\n",
      "      Epoch    GPU_mem   box_loss   cls_loss   dfl_loss  Instances       Size\n"
     ]
    },
    {
     "name": "stderr",
     "output_type": "stream",
     "text": [
      "     77/100      2.37G      1.017      1.262       1.26         33        640: 100%|██████████| 102/102 [00:14<00:00,  6.95it/s]\n",
      "                 Class     Images  Instances      Box(P          R      mAP50  mAP50-95): 100%|██████████| 15/15 [00:02<00:00,  5.33it/s]"
     ]
    },
    {
     "name": "stdout",
     "output_type": "stream",
     "text": [
      "                   all        463       1661      0.432      0.421      0.401      0.278\n"
     ]
    },
    {
     "name": "stderr",
     "output_type": "stream",
     "text": [
      "\n"
     ]
    },
    {
     "name": "stdout",
     "output_type": "stream",
     "text": [
      "\n",
      "      Epoch    GPU_mem   box_loss   cls_loss   dfl_loss  Instances       Size\n"
     ]
    },
    {
     "name": "stderr",
     "output_type": "stream",
     "text": [
      "     78/100      2.41G      1.009      1.245      1.264         39        640: 100%|██████████| 102/102 [00:14<00:00,  6.91it/s]\n",
      "                 Class     Images  Instances      Box(P          R      mAP50  mAP50-95): 100%|██████████| 15/15 [00:02<00:00,  5.56it/s]"
     ]
    },
    {
     "name": "stdout",
     "output_type": "stream",
     "text": [
      "                   all        463       1661      0.446      0.401      0.397      0.272\n"
     ]
    },
    {
     "name": "stderr",
     "output_type": "stream",
     "text": [
      "\n"
     ]
    },
    {
     "name": "stdout",
     "output_type": "stream",
     "text": [
      "\n",
      "      Epoch    GPU_mem   box_loss   cls_loss   dfl_loss  Instances       Size\n"
     ]
    },
    {
     "name": "stderr",
     "output_type": "stream",
     "text": [
      "     79/100      2.41G      1.003       1.23      1.255         42        640: 100%|██████████| 102/102 [00:14<00:00,  6.97it/s]\n",
      "                 Class     Images  Instances      Box(P          R      mAP50  mAP50-95): 100%|██████████| 15/15 [00:02<00:00,  5.68it/s]"
     ]
    },
    {
     "name": "stdout",
     "output_type": "stream",
     "text": [
      "                   all        463       1661      0.446      0.386      0.403      0.276\n"
     ]
    },
    {
     "name": "stderr",
     "output_type": "stream",
     "text": [
      "\n"
     ]
    },
    {
     "name": "stdout",
     "output_type": "stream",
     "text": [
      "\n",
      "      Epoch    GPU_mem   box_loss   cls_loss   dfl_loss  Instances       Size\n"
     ]
    },
    {
     "name": "stderr",
     "output_type": "stream",
     "text": [
      "     80/100      2.41G      1.021      1.241      1.259         29        640: 100%|██████████| 102/102 [00:14<00:00,  6.92it/s]\n",
      "                 Class     Images  Instances      Box(P          R      mAP50  mAP50-95): 100%|██████████| 15/15 [00:02<00:00,  5.43it/s]"
     ]
    },
    {
     "name": "stdout",
     "output_type": "stream",
     "text": [
      "                   all        463       1661      0.466      0.379      0.412      0.284\n"
     ]
    },
    {
     "name": "stderr",
     "output_type": "stream",
     "text": [
      "\n"
     ]
    },
    {
     "name": "stdout",
     "output_type": "stream",
     "text": [
      "\n",
      "      Epoch    GPU_mem   box_loss   cls_loss   dfl_loss  Instances       Size\n"
     ]
    },
    {
     "name": "stderr",
     "output_type": "stream",
     "text": [
      "     81/100      2.38G      1.026      1.242      1.251         44        640: 100%|██████████| 102/102 [00:14<00:00,  6.98it/s]\n",
      "                 Class     Images  Instances      Box(P          R      mAP50  mAP50-95): 100%|██████████| 15/15 [00:02<00:00,  5.20it/s]"
     ]
    },
    {
     "name": "stdout",
     "output_type": "stream",
     "text": [
      "                   all        463       1661      0.443      0.422      0.407       0.28\n"
     ]
    },
    {
     "name": "stderr",
     "output_type": "stream",
     "text": [
      "\n"
     ]
    },
    {
     "name": "stdout",
     "output_type": "stream",
     "text": [
      "\n",
      "      Epoch    GPU_mem   box_loss   cls_loss   dfl_loss  Instances       Size\n"
     ]
    },
    {
     "name": "stderr",
     "output_type": "stream",
     "text": [
      "     82/100      2.43G          1      1.208      1.248         53        640: 100%|██████████| 102/102 [00:14<00:00,  6.95it/s]\n",
      "                 Class     Images  Instances      Box(P          R      mAP50  mAP50-95): 100%|██████████| 15/15 [00:02<00:00,  5.46it/s]"
     ]
    },
    {
     "name": "stdout",
     "output_type": "stream",
     "text": [
      "                   all        463       1661      0.436       0.43      0.404      0.276\n"
     ]
    },
    {
     "name": "stderr",
     "output_type": "stream",
     "text": [
      "\n"
     ]
    },
    {
     "name": "stdout",
     "output_type": "stream",
     "text": [
      "\n",
      "      Epoch    GPU_mem   box_loss   cls_loss   dfl_loss  Instances       Size\n"
     ]
    },
    {
     "name": "stderr",
     "output_type": "stream",
     "text": [
      "     83/100      2.37G      1.032      1.244      1.264         31        640: 100%|██████████| 102/102 [00:14<00:00,  6.95it/s]\n",
      "                 Class     Images  Instances      Box(P          R      mAP50  mAP50-95): 100%|██████████| 15/15 [00:02<00:00,  5.22it/s]"
     ]
    },
    {
     "name": "stdout",
     "output_type": "stream",
     "text": [
      "                   all        463       1661      0.418       0.44        0.4      0.276\n"
     ]
    },
    {
     "name": "stderr",
     "output_type": "stream",
     "text": [
      "\n"
     ]
    },
    {
     "name": "stdout",
     "output_type": "stream",
     "text": [
      "\n",
      "      Epoch    GPU_mem   box_loss   cls_loss   dfl_loss  Instances       Size\n"
     ]
    },
    {
     "name": "stderr",
     "output_type": "stream",
     "text": [
      "     84/100      2.24G      1.015       1.22      1.254         29        640: 100%|██████████| 102/102 [00:14<00:00,  6.94it/s]\n",
      "                 Class     Images  Instances      Box(P          R      mAP50  mAP50-95): 100%|██████████| 15/15 [00:02<00:00,  5.66it/s]"
     ]
    },
    {
     "name": "stdout",
     "output_type": "stream",
     "text": [
      "                   all        463       1661      0.439      0.405      0.407       0.28\n"
     ]
    },
    {
     "name": "stderr",
     "output_type": "stream",
     "text": [
      "\n"
     ]
    },
    {
     "name": "stdout",
     "output_type": "stream",
     "text": [
      "\n",
      "      Epoch    GPU_mem   box_loss   cls_loss   dfl_loss  Instances       Size\n"
     ]
    },
    {
     "name": "stderr",
     "output_type": "stream",
     "text": [
      "     85/100      2.39G      1.025      1.221      1.257         56        640: 100%|██████████| 102/102 [00:14<00:00,  6.98it/s]\n",
      "                 Class     Images  Instances      Box(P          R      mAP50  mAP50-95): 100%|██████████| 15/15 [00:02<00:00,  5.44it/s]"
     ]
    },
    {
     "name": "stdout",
     "output_type": "stream",
     "text": [
      "                   all        463       1661      0.429       0.42      0.399      0.273\n"
     ]
    },
    {
     "name": "stderr",
     "output_type": "stream",
     "text": [
      "\n"
     ]
    },
    {
     "name": "stdout",
     "output_type": "stream",
     "text": [
      "\n",
      "      Epoch    GPU_mem   box_loss   cls_loss   dfl_loss  Instances       Size\n"
     ]
    },
    {
     "name": "stderr",
     "output_type": "stream",
     "text": [
      "     86/100      2.24G     0.9961      1.229      1.258         29        640: 100%|██████████| 102/102 [00:14<00:00,  7.00it/s]\n",
      "                 Class     Images  Instances      Box(P          R      mAP50  mAP50-95): 100%|██████████| 15/15 [00:02<00:00,  5.65it/s]"
     ]
    },
    {
     "name": "stdout",
     "output_type": "stream",
     "text": [
      "                   all        463       1661      0.402       0.44      0.397      0.272\n"
     ]
    },
    {
     "name": "stderr",
     "output_type": "stream",
     "text": [
      "\n"
     ]
    },
    {
     "name": "stdout",
     "output_type": "stream",
     "text": [
      "\n",
      "      Epoch    GPU_mem   box_loss   cls_loss   dfl_loss  Instances       Size\n"
     ]
    },
    {
     "name": "stderr",
     "output_type": "stream",
     "text": [
      "     87/100      2.24G      1.009      1.197      1.264         38        640: 100%|██████████| 102/102 [00:14<00:00,  6.98it/s]\n",
      "                 Class     Images  Instances      Box(P          R      mAP50  mAP50-95): 100%|██████████| 15/15 [00:02<00:00,  5.34it/s]"
     ]
    },
    {
     "name": "stdout",
     "output_type": "stream",
     "text": [
      "                   all        463       1661      0.438      0.416       0.41      0.283\n"
     ]
    },
    {
     "name": "stderr",
     "output_type": "stream",
     "text": [
      "\n"
     ]
    },
    {
     "name": "stdout",
     "output_type": "stream",
     "text": [
      "\n",
      "      Epoch    GPU_mem   box_loss   cls_loss   dfl_loss  Instances       Size\n"
     ]
    },
    {
     "name": "stderr",
     "output_type": "stream",
     "text": [
      "     88/100      2.37G      1.014      1.223      1.255         30        640: 100%|██████████| 102/102 [00:14<00:00,  6.90it/s]\n",
      "                 Class     Images  Instances      Box(P          R      mAP50  mAP50-95): 100%|██████████| 15/15 [00:02<00:00,  5.17it/s]"
     ]
    },
    {
     "name": "stdout",
     "output_type": "stream",
     "text": [
      "                   all        463       1661      0.452      0.402      0.406      0.279\n"
     ]
    },
    {
     "name": "stderr",
     "output_type": "stream",
     "text": [
      "\n"
     ]
    },
    {
     "name": "stdout",
     "output_type": "stream",
     "text": [
      "\n",
      "      Epoch    GPU_mem   box_loss   cls_loss   dfl_loss  Instances       Size\n"
     ]
    },
    {
     "name": "stderr",
     "output_type": "stream",
     "text": [
      "     89/100      2.33G      1.003      1.183       1.24         44        640: 100%|██████████| 102/102 [00:14<00:00,  6.89it/s]\n",
      "                 Class     Images  Instances      Box(P          R      mAP50  mAP50-95): 100%|██████████| 15/15 [00:02<00:00,  5.32it/s]"
     ]
    },
    {
     "name": "stdout",
     "output_type": "stream",
     "text": [
      "                   all        463       1661      0.437      0.424      0.412      0.283\n"
     ]
    },
    {
     "name": "stderr",
     "output_type": "stream",
     "text": [
      "\n"
     ]
    },
    {
     "name": "stdout",
     "output_type": "stream",
     "text": [
      "\n",
      "      Epoch    GPU_mem   box_loss   cls_loss   dfl_loss  Instances       Size\n"
     ]
    },
    {
     "name": "stderr",
     "output_type": "stream",
     "text": [
      "     90/100      2.24G     0.9948      1.187      1.237         60        640: 100%|██████████| 102/102 [00:14<00:00,  6.94it/s]\n",
      "                 Class     Images  Instances      Box(P          R      mAP50  mAP50-95): 100%|██████████| 15/15 [00:02<00:00,  5.18it/s]"
     ]
    },
    {
     "name": "stdout",
     "output_type": "stream",
     "text": [
      "                   all        463       1661      0.434      0.426      0.408      0.281\n"
     ]
    },
    {
     "name": "stderr",
     "output_type": "stream",
     "text": [
      "\n"
     ]
    },
    {
     "name": "stdout",
     "output_type": "stream",
     "text": [
      "Closing dataloader mosaic\n",
      "\n",
      "      Epoch    GPU_mem   box_loss   cls_loss   dfl_loss  Instances       Size\n"
     ]
    },
    {
     "name": "stderr",
     "output_type": "stream",
     "text": [
      "     91/100      2.41G     0.9769      1.159      1.249         10        640: 100%|██████████| 102/102 [00:15<00:00,  6.60it/s]\n",
      "                 Class     Images  Instances      Box(P          R      mAP50  mAP50-95): 100%|██████████| 15/15 [00:02<00:00,  5.53it/s]"
     ]
    },
    {
     "name": "stdout",
     "output_type": "stream",
     "text": [
      "                   all        463       1661      0.411      0.414      0.391      0.268\n"
     ]
    },
    {
     "name": "stderr",
     "output_type": "stream",
     "text": [
      "\n"
     ]
    },
    {
     "name": "stdout",
     "output_type": "stream",
     "text": [
      "\n",
      "      Epoch    GPU_mem   box_loss   cls_loss   dfl_loss  Instances       Size\n"
     ]
    },
    {
     "name": "stderr",
     "output_type": "stream",
     "text": [
      "     92/100      2.41G     0.9536      1.082      1.238         16        640: 100%|██████████| 102/102 [00:14<00:00,  7.03it/s]\n",
      "                 Class     Images  Instances      Box(P          R      mAP50  mAP50-95): 100%|██████████| 15/15 [00:02<00:00,  5.21it/s]"
     ]
    },
    {
     "name": "stdout",
     "output_type": "stream",
     "text": [
      "                   all        463       1661      0.425      0.416      0.392      0.271\n"
     ]
    },
    {
     "name": "stderr",
     "output_type": "stream",
     "text": [
      "\n"
     ]
    },
    {
     "name": "stdout",
     "output_type": "stream",
     "text": [
      "\n",
      "      Epoch    GPU_mem   box_loss   cls_loss   dfl_loss  Instances       Size\n"
     ]
    },
    {
     "name": "stderr",
     "output_type": "stream",
     "text": [
      "     93/100      2.41G     0.9471      1.061      1.228         15        640: 100%|██████████| 102/102 [00:14<00:00,  6.98it/s]\n",
      "                 Class     Images  Instances      Box(P          R      mAP50  mAP50-95): 100%|██████████| 15/15 [00:02<00:00,  5.19it/s]"
     ]
    },
    {
     "name": "stdout",
     "output_type": "stream",
     "text": [
      "                   all        463       1661      0.441      0.396      0.397      0.275\n"
     ]
    },
    {
     "name": "stderr",
     "output_type": "stream",
     "text": [
      "\n"
     ]
    },
    {
     "name": "stdout",
     "output_type": "stream",
     "text": [
      "\n",
      "      Epoch    GPU_mem   box_loss   cls_loss   dfl_loss  Instances       Size\n"
     ]
    },
    {
     "name": "stderr",
     "output_type": "stream",
     "text": [
      "     94/100      2.25G     0.9344      1.046      1.229         20        640: 100%|██████████| 102/102 [00:14<00:00,  7.05it/s]\n",
      "                 Class     Images  Instances      Box(P          R      mAP50  mAP50-95): 100%|██████████| 15/15 [00:02<00:00,  5.11it/s]"
     ]
    },
    {
     "name": "stdout",
     "output_type": "stream",
     "text": [
      "                   all        463       1661      0.427      0.418      0.404      0.279\n"
     ]
    },
    {
     "name": "stderr",
     "output_type": "stream",
     "text": [
      "\n"
     ]
    },
    {
     "name": "stdout",
     "output_type": "stream",
     "text": [
      "\n",
      "      Epoch    GPU_mem   box_loss   cls_loss   dfl_loss  Instances       Size\n"
     ]
    },
    {
     "name": "stderr",
     "output_type": "stream",
     "text": [
      "     95/100      2.39G      0.943      1.037      1.234          7        640: 100%|██████████| 102/102 [00:14<00:00,  7.03it/s]\n",
      "                 Class     Images  Instances      Box(P          R      mAP50  mAP50-95): 100%|██████████| 15/15 [00:02<00:00,  5.13it/s]"
     ]
    },
    {
     "name": "stdout",
     "output_type": "stream",
     "text": [
      "                   all        463       1661      0.413      0.436      0.403      0.276\n"
     ]
    },
    {
     "name": "stderr",
     "output_type": "stream",
     "text": [
      "\n"
     ]
    },
    {
     "name": "stdout",
     "output_type": "stream",
     "text": [
      "\n",
      "      Epoch    GPU_mem   box_loss   cls_loss   dfl_loss  Instances       Size\n"
     ]
    },
    {
     "name": "stderr",
     "output_type": "stream",
     "text": [
      "     96/100      2.41G     0.9346      1.041      1.226         29        640: 100%|██████████| 102/102 [00:14<00:00,  7.01it/s]\n",
      "                 Class     Images  Instances      Box(P          R      mAP50  mAP50-95): 100%|██████████| 15/15 [00:02<00:00,  5.10it/s]"
     ]
    },
    {
     "name": "stdout",
     "output_type": "stream",
     "text": [
      "                   all        463       1661      0.425      0.426        0.4      0.273\n"
     ]
    },
    {
     "name": "stderr",
     "output_type": "stream",
     "text": [
      "\n"
     ]
    },
    {
     "name": "stdout",
     "output_type": "stream",
     "text": [
      "\n",
      "      Epoch    GPU_mem   box_loss   cls_loss   dfl_loss  Instances       Size\n"
     ]
    },
    {
     "name": "stderr",
     "output_type": "stream",
     "text": [
      "     97/100      2.25G     0.9227      1.005      1.222         13        640: 100%|██████████| 102/102 [00:14<00:00,  6.99it/s]\n",
      "                 Class     Images  Instances      Box(P          R      mAP50  mAP50-95): 100%|██████████| 15/15 [00:02<00:00,  5.22it/s]"
     ]
    },
    {
     "name": "stdout",
     "output_type": "stream",
     "text": [
      "                   all        463       1661      0.438      0.428      0.405      0.277\n"
     ]
    },
    {
     "name": "stderr",
     "output_type": "stream",
     "text": [
      "\n"
     ]
    },
    {
     "name": "stdout",
     "output_type": "stream",
     "text": [
      "\n",
      "      Epoch    GPU_mem   box_loss   cls_loss   dfl_loss  Instances       Size\n"
     ]
    },
    {
     "name": "stderr",
     "output_type": "stream",
     "text": [
      "     98/100      2.43G     0.9227     0.9989       1.21         11        640: 100%|██████████| 102/102 [00:14<00:00,  7.02it/s]\n",
      "                 Class     Images  Instances      Box(P          R      mAP50  mAP50-95): 100%|██████████| 15/15 [00:02<00:00,  5.29it/s]"
     ]
    },
    {
     "name": "stdout",
     "output_type": "stream",
     "text": [
      "                   all        463       1661      0.448      0.411      0.405       0.28\n"
     ]
    },
    {
     "name": "stderr",
     "output_type": "stream",
     "text": [
      "\n"
     ]
    },
    {
     "name": "stdout",
     "output_type": "stream",
     "text": [
      "\n",
      "      Epoch    GPU_mem   box_loss   cls_loss   dfl_loss  Instances       Size\n"
     ]
    },
    {
     "name": "stderr",
     "output_type": "stream",
     "text": [
      "     99/100       2.4G     0.9435      1.023      1.236         31        640: 100%|██████████| 102/102 [00:14<00:00,  6.95it/s]\n",
      "                 Class     Images  Instances      Box(P          R      mAP50  mAP50-95): 100%|██████████| 15/15 [00:02<00:00,  5.63it/s]"
     ]
    },
    {
     "name": "stdout",
     "output_type": "stream",
     "text": [
      "                   all        463       1661      0.462      0.397      0.407       0.28\n"
     ]
    },
    {
     "name": "stderr",
     "output_type": "stream",
     "text": [
      "\n"
     ]
    },
    {
     "name": "stdout",
     "output_type": "stream",
     "text": [
      "\n",
      "      Epoch    GPU_mem   box_loss   cls_loss   dfl_loss  Instances       Size\n"
     ]
    },
    {
     "name": "stderr",
     "output_type": "stream",
     "text": [
      "    100/100       2.4G     0.9193      1.006      1.223         31        640: 100%|██████████| 102/102 [00:14<00:00,  7.01it/s]\n",
      "                 Class     Images  Instances      Box(P          R      mAP50  mAP50-95): 100%|██████████| 15/15 [00:02<00:00,  5.44it/s]"
     ]
    },
    {
     "name": "stdout",
     "output_type": "stream",
     "text": [
      "                   all        463       1661      0.438      0.421      0.407       0.28\n"
     ]
    },
    {
     "name": "stderr",
     "output_type": "stream",
     "text": [
      "\n"
     ]
    },
    {
     "name": "stdout",
     "output_type": "stream",
     "text": [
      "\n",
      "100 epochs completed in 0.505 hours.\n",
      "Optimizer stripped from runs/detect/train4/weights/last.pt, 6.3MB\n",
      "Optimizer stripped from runs/detect/train4/weights/best.pt, 6.3MB\n",
      "\n",
      "Validating runs/detect/train4/weights/best.pt...\n",
      "Ultralytics YOLOv8.2.41 🚀 Python-3.10.10 torch-2.2.1+cu121 CUDA:0 (Tesla T4, 15102MiB)\n",
      "Model summary (fused): 168 layers, 3011498 parameters, 0 gradients, 8.1 GFLOPs\n"
     ]
    },
    {
     "name": "stderr",
     "output_type": "stream",
     "text": [
      "                 Class     Images  Instances      Box(P          R      mAP50  mAP50-95): 100%|██████████| 15/15 [00:04<00:00,  3.71it/s]\n"
     ]
    },
    {
     "name": "stdout",
     "output_type": "stream",
     "text": [
      "                   all        463       1661      0.459      0.411      0.411      0.289\n",
      "       Apple Scab Leaf          9         12      0.203        0.5      0.247      0.202\n",
      "            Apple leaf         18         58      0.504       0.49      0.537      0.383\n",
      "       Apple rust leaf         18         35      0.512      0.514      0.462      0.312\n",
      " Bell_pepper leaf spot          9         26      0.337      0.216      0.204      0.167\n",
      "      Bell_pepper leaf         12         50      0.538       0.32      0.364      0.238\n",
      "        Blueberry leaf         21        174      0.651       0.58      0.644      0.418\n",
      "           Cherry leaf         11         72       0.51      0.278      0.375      0.246\n",
      "   Corn Gray leaf spot          8         10      0.425        0.5      0.349      0.312\n",
      "      Corn leaf blight         38         72      0.644      0.458      0.585      0.324\n",
      "        Corn rust leaf         16         17      0.662      0.882      0.877      0.779\n",
      "            Peach leaf         16         89      0.862      0.674      0.805      0.524\n",
      "Potato leaf early blight         19         40      0.362       0.45      0.411      0.282\n",
      "Potato leaf late blight          2          4          1          0          0          0\n",
      "           Potato leaf         26         81      0.371      0.148      0.236      0.163\n",
      "        Raspberry leaf         23         86      0.596      0.686       0.68      0.509\n",
      "         Soyabean leaf         14         53      0.533      0.509      0.517      0.438\n",
      "          Soybean leaf          1         15          0          0          0          0\n",
      "Squash Powdery mildew leaf         30         49      0.488      0.592      0.578      0.397\n",
      "       Strawberry leaf         14         76      0.626      0.816      0.829       0.63\n",
      "Tomato Early blight leaf         17         60      0.574        0.1        0.2     0.0984\n",
      "Tomato Septoria leaf spot         32         98       0.42      0.622      0.432       0.27\n",
      "Tomato leaf bacterial spot         20        210      0.471      0.254      0.318      0.137\n",
      "Tomato leaf late blight         11         41      0.289      0.293      0.292      0.147\n",
      "Tomato leaf mosaic virus         19         50      0.301      0.181      0.219      0.144\n",
      "Tomato leaf yellow virus         18         33      0.342      0.394       0.42      0.251\n",
      "           Tomato leaf         13         56      0.336      0.179      0.129     0.0964\n",
      "      Tomato mold leaf         13         45     0.0601     0.0444     0.0453     0.0282\n",
      "Tomato two spotted spider mites leaf          1          1          0          0          0          0\n",
      "  grape leaf black rot         13         21      0.677      0.714      0.713      0.527\n",
      "            grape leaf          7         27      0.487      0.926      0.874      0.631\n",
      "Speed: 0.3ms preprocess, 1.9ms inference, 0.0ms loss, 3.0ms postprocess per image\n",
      "Results saved to \u001b[1mruns/detect/train4\u001b[0m\n"
     ]
    }
   ],
   "source": [
    "from ultralytics import YOLO\n",
    "\n",
    "model = YOLO(\"yolov8n.pt\")\n",
    "results = model.train(data=\"/teamspace/studios/this_studio/PlantDoc-Dataset-3/data.yaml\", epochs=100, batch=16)"
   ]
  },
  {
   "cell_type": "code",
   "execution_count": 4,
   "metadata": {},
   "outputs": [
    {
     "name": "stdout",
     "output_type": "stream",
     "text": [
      "\n",
      "image 1/233 /teamspace/studios/this_studio/PlantDoc-Dataset-3/test/images/011_jpg.rf.46945b594660ddbc1664e8f4fa82a50c.jpg: 640x640 4 Corn leaf blights, 207.0ms\n",
      "image 2/233 /teamspace/studios/this_studio/PlantDoc-Dataset-3/test/images/01Apple-scab-2-Venturia-inaequalis_ashx-w-600-h-408-bc-ffffff_jpg.rf.b3325e65f681acde75866e8a177f7064.jpg: 640x640 1 Apple Scab Leaf, 2 Apple leafs, 1 Blueberry leaf, 141.9ms\n",
      "image 3/233 /teamspace/studios/this_studio/PlantDoc-Dataset-3/test/images/02gb_jpg.rf.e283b81ff2881189c234e298309a1245.jpg: 640x640 1 grape leaf black rot, 130.7ms\n",
      "image 4/233 /teamspace/studios/this_studio/PlantDoc-Dataset-3/test/images/04_jpg.rf.fb88fda505072d7e8edd514913c316ae.jpg: 640x640 1 Bell_pepper leaf spot, 3 Corn leaf blights, 141.5ms\n",
      "image 5/233 /teamspace/studios/this_studio/PlantDoc-Dataset-3/test/images/05-069f12_jpg.rf.5bc0ab13a844a1da008f322c90ec8ee8.jpg: 640x640 1 Tomato Septoria leaf spot, 145.2ms\n",
      "image 6/233 /teamspace/studios/this_studio/PlantDoc-Dataset-3/test/images/05-069f9_jpg.rf.a647327f931fecaa8b1d23b6ea1759c6.jpg: 640x640 1 Tomato Early blight leaf, 1 Tomato leaf mosaic virus, 127.0ms\n",
      "image 7/233 /teamspace/studios/this_studio/PlantDoc-Dataset-3/test/images/0g_jpg.rf.3d9195c76cc8120df8c87396c2ad367b.jpg: 640x640 1 Blueberry leaf, 2 grape leaf black rots, 16 grape leafs, 134.7ms\n",
      "image 8/233 /teamspace/studios/this_studio/PlantDoc-Dataset-3/test/images/0gb_jpg.rf.d427914c37cf01e57f57de6de24cb304.jpg: 640x640 1 Apple rust leaf, 1 Tomato Septoria leaf spot, 12 grape leaf black rots, 1 grape leaf, 142.6ms\n",
      "image 9/233 /teamspace/studios/this_studio/PlantDoc-Dataset-3/test/images/1-Cedar-apple-rust-infections-and-rust-induced-leafspot-on-Ginger-Gold-4-Jun-08-2d4hi2k_jpg.rf.609ace43c177be74aeabf15187e4bc31.jpg: 640x640 2 Apple rust leafs, 9 Blueberry leafs, 129.0ms\n",
      "image 10/233 /teamspace/studios/this_studio/PlantDoc-Dataset-3/test/images/1-Severe-cedar-apple-rust-on-Ginger-Gold-1-Jul-09-1n5iktz_jpg.rf.3cfaec9c5c2225ae2176567e374a0016.jpg: 640x640 2 Apple rust leafs, 3 Blueberry leafs, 1 Peach leaf, 1 Tomato Early blight leaf, 1 grape leaf black rot, 133.5ms\n",
      "image 11/233 /teamspace/studios/this_studio/PlantDoc-Dataset-3/test/images/1024_x_576_-_alternaria_early_infection_symptoms_spreading_jpg.rf.a2c1484d0e3a97c3bf63e60dfcd916ef.jpg: 640x640 1 Potato leaf, 152.3ms\n",
      "image 12/233 /teamspace/studios/this_studio/PlantDoc-Dataset-3/test/images/1029980206_21e73f8c57_jpg.rf.8eddcf80119b856f762f08ca925bb6ee.jpg: 640x640 5 Raspberry leafs, 129.7ms\n",
      "image 13/233 /teamspace/studios/this_studio/PlantDoc-Dataset-3/test/images/102_0829_JPG_jpg.rf.b80be71eae25fcce896ead59d15c468e.jpg: 640x640 9 Strawberry leafs, 143.5ms\n",
      "image 14/233 /teamspace/studios/this_studio/PlantDoc-Dataset-3/test/images/14321627273_58d893c3e2_b_jpg.rf.ffef7797f826ef87f34133eff86a5698.jpg: 640x640 1 Potato leaf, 140.2ms\n",
      "image 15/233 /teamspace/studios/this_studio/PlantDoc-Dataset-3/test/images/15rnn8k_jpg.rf.2c9e367f1823e3890250db15f1c4d92b.jpg: 640x640 1 Apple Scab Leaf, 4 Blueberry leafs, 1 Soyabean leaf, 131.5ms\n",
      "image 16/233 /teamspace/studios/this_studio/PlantDoc-Dataset-3/test/images/1686_jpg.rf.40367fa0e02907935170f3203b488d5f.jpg: 640x640 2 Tomato leaf bacterial spots, 1 Tomato leaf late blight, 137.9ms\n",
      "image 17/233 /teamspace/studios/this_studio/PlantDoc-Dataset-3/test/images/1895541545_8cfc6eabee_b_jpg.rf.94120fbe66d7b0777792fed07efddfad.jpg: 640x640 1 Squash Powdery mildew leaf, 128.2ms\n",
      "image 18/233 /teamspace/studios/this_studio/PlantDoc-Dataset-3/test/images/1b9155649757248759cdbe7d83cc94c0_jpg.rf.54c07d0576d5bbfedf86c21f6d054179.jpg: 640x640 1 Cherry leaf, 130.2ms\n",
      "image 19/233 /teamspace/studios/this_studio/PlantDoc-Dataset-3/test/images/2009-06-069-Downy-mildew_jpg.rf.a1a729c3511e8e7a86c5abfbe8c6c4ed.jpg: 640x640 1 grape leaf black rot, 7 grape leafs, 168.8ms\n",
      "image 20/233 /teamspace/studios/this_studio/PlantDoc-Dataset-3/test/images/2013Corn_GrayLeaf_0820_0003_JPG_jpg.rf.375ea40da913737de7190ea09c319951.jpg: 640x640 1 Corn leaf blight, 3 Corn rust leafs, 200.9ms\n",
      "image 21/233 /teamspace/studios/this_studio/PlantDoc-Dataset-3/test/images/20140818-tomato-sauce-vicky-wasik-1_jpg.rf.f2a11b499b6b040c85751e7ff4eca624.jpg: 640x640 3 Tomato leaf late blights, 188.2ms\n",
      "image 22/233 /teamspace/studios/this_studio/PlantDoc-Dataset-3/test/images/2477703364_0c94646b48_jpg.rf.0aec2ef5beeb43a36a6a7c17d5e1fc1e.jpg: 640x640 1 Apple Scab Leaf, 186.3ms\n",
      "image 23/233 /teamspace/studios/this_studio/PlantDoc-Dataset-3/test/images/2619_600_jpg.rf.0f683f2d92337b75633a3d3f807e808e.jpg: 640x640 3 Potato leaf early blights, 1 Potato leaf, 167.8ms\n",
      "image 24/233 /teamspace/studios/this_studio/PlantDoc-Dataset-3/test/images/30053_original_jpg.rf.65507339dc00a24d88b11adfaf9b92ff.jpg: 640x640 1 Potato leaf, 1 Tomato leaf yellow virus, 142.9ms\n",
      "image 25/233 /teamspace/studios/this_studio/PlantDoc-Dataset-3/test/images/3182_jpg.rf.86c5c92f4362e0bcacc7f4ad85105765.jpg: 640x640 1 Apple Scab Leaf, 136.0ms\n",
      "image 26/233 /teamspace/studios/this_studio/PlantDoc-Dataset-3/test/images/35327886795_6f608e0eaa_b_jpg.rf.4c07f3ae3c49e880cfba02eb403b1c0b.jpg: 640x640 1 Tomato leaf late blight, 3 grape leafs, 138.0ms\n",
      "image 27/233 /teamspace/studios/this_studio/PlantDoc-Dataset-3/test/images/4851522550_02e3b9f3b4_jpg.rf.0fdf7864d6542ba8fdf770ea6b4fef52.jpg: 640x640 1 Apple leaf, 142.5ms\n",
      "image 28/233 /teamspace/studios/this_studio/PlantDoc-Dataset-3/test/images/4b0bfd_df5a85f728c74cecbe908a24feadab02_jpg.rf.b6dedcb04cfa8a568058994d05771cdf.jpg: 640x640 1 Tomato Septoria leaf spot, 1 Tomato leaf mosaic virus, 142.0ms\n",
      "image 29/233 /teamspace/studios/this_studio/PlantDoc-Dataset-3/test/images/4cffdc67492014fcf2c5f34b0565fad7_jpg.rf.f1b7c504da7dcc2dfaa34ab1837cda89.jpg: 640x640 12 Strawberry leafs, 141.8ms\n",
      "image 30/233 /teamspace/studios/this_studio/PlantDoc-Dataset-3/test/images/5146_jpg.rf.8c364244b57abc7261f2806b2d484096.jpg: 640x640 2 Tomato leaf late blights, 1 Tomato leaf yellow virus, 1 Tomato leaf, 142.1ms\n",
      "image 31/233 /teamspace/studios/this_studio/PlantDoc-Dataset-3/test/images/5336411888680960-600x272_jpeg_jpg.rf.f5c1d7b46b99a792aadc6bb097eed8b5.jpg: 640x640 1 grape leaf black rot, 131.2ms\n",
      "image 32/233 /teamspace/studios/this_studio/PlantDoc-Dataset-3/test/images/5834652565_6b00a70309_z_jpg.rf.798413230bf750c6e653cdb71efcc084.jpg: 640x640 12 Soyabean leafs, 137.3ms\n",
      "image 33/233 /teamspace/studios/this_studio/PlantDoc-Dataset-3/test/images/6A642AA3-1DB1-4413-B0B6-7FBB68A5904A_original_jpeg-1528657579_jpg.rf.acd8ec06b6b2725eefa69dac63e4fe56.jpg: 640x640 2 Apple rust leafs, 1 Cherry leaf, 1 Tomato Septoria leaf spot, 1 Tomato leaf yellow virus, 127.1ms\n",
      "image 34/233 /teamspace/studios/this_studio/PlantDoc-Dataset-3/test/images/AGS-154646-S-5801_jpg.rf.32509556415578da18ad125ec2104e72.jpg: 640x640 1 Potato leaf, 142.6ms\n",
      "image 35/233 /teamspace/studios/this_studio/PlantDoc-Dataset-3/test/images/Apple-Scab-Mulrooney_jpg.rf.5168a928eaf3a0b561158d654109e05a.jpg: 640x640 1 Apple Scab Leaf, 1 Apple rust leaf, 1 Cherry leaf, 125.8ms\n",
      "image 36/233 /teamspace/studios/this_studio/PlantDoc-Dataset-3/test/images/AppleScab_JPG_jpg.rf.dbdf9b86b07fbb4d99c4df641920be85.jpg: 640x640 1 Apple rust leaf, 1 Squash Powdery mildew leaf, 132.9ms\n",
      "image 37/233 /teamspace/studios/this_studio/PlantDoc-Dataset-3/test/images/Aug-16-2010-051_jpg.rf.e7dcdc2ab5dae649eda5860db0da88d4.jpg: 640x640 6 Squash Powdery mildew leafs, 139.4ms\n",
      "image 38/233 /teamspace/studios/this_studio/PlantDoc-Dataset-3/test/images/Bacterial_spots562_jpg.rf.532b1382d4cb77d97326ced043a8b835.jpg: 640x640 1 Apple Scab Leaf, 1 Bell_pepper leaf spot, 1 Tomato leaf mosaic virus, 131.8ms\n",
      "image 39/233 /teamspace/studios/this_studio/PlantDoc-Dataset-3/test/images/Basil-2Binfected-2Bby-2BTomato-2BSpotted-2BWilt-2BVirus_jpg.rf.fd34e8f766a2336dd8b282f69a2c1877.jpg: 640x640 1 Tomato leaf, 142.9ms\n",
      "image 40/233 /teamspace/studios/this_studio/PlantDoc-Dataset-3/test/images/Black_Rot_of_Grapes1153_jpg.rf.980450f408ecde09311e207c8cd94c19.jpg: 640x640 1 Corn rust leaf, 1 grape leaf black rot, 137.0ms\n",
      "image 41/233 /teamspace/studios/this_studio/PlantDoc-Dataset-3/test/images/Blackberry-black-raspberry1-1024x440_jpg.rf.9df788e3b15e19af32359719648af042.jpg: 640x640 7 Raspberry leafs, 2 grape leafs, 134.6ms\n",
      "image 42/233 /teamspace/studios/this_studio/PlantDoc-Dataset-3/test/images/CMZEb_jpg.rf.40da58c56c88c6db0f4c99506d7301a9.jpg: 640x640 1 Potato leaf early blight, 1 Soyabean leaf, 133.8ms\n",
      "image 43/233 /teamspace/studios/this_studio/PlantDoc-Dataset-3/test/images/CankerFoliar-copy-50-QUALITY-122b09b_jpg.rf.9be8d3ef3d450729c23b00b9ebf3f106.jpg: 640x640 1 Tomato Septoria leaf spot, 2 Tomato leaf bacterial spots, 1 Tomato leaf, 140.9ms\n",
      "image 44/233 /teamspace/studios/this_studio/PlantDoc-Dataset-3/test/images/Corn-20Common-20Rust_png_jpg.rf.ab343fcad2233eb863919bcc3683d073.jpg: 640x640 1 Corn leaf blight, 130.4ms\n",
      "image 45/233 /teamspace/studios/this_studio/PlantDoc-Dataset-3/test/images/Corn-Common-Rust_jpg.rf.559440fc3b1bf56952ae3be7443a557d.jpg: 640x640 1 Corn leaf blight, 1 Corn rust leaf, 138.0ms\n",
      "image 46/233 /teamspace/studios/this_studio/PlantDoc-Dataset-3/test/images/Corn-Gray-Leaf-Spot-7-31-F2_jpg.rf.46ef30d04f34bd47cc84ae7e16e381bc.jpg: 640x640 1 Corn leaf blight, 129.1ms\n",
      "image 47/233 /teamspace/studios/this_studio/PlantDoc-Dataset-3/test/images/Corn-Gray-leafspot-lesions-300x225_jpg.rf.94f026bf4bb2b1959c2a1f86214ec1dd.jpg: 640x640 1 Corn rust leaf, 128.1ms\n",
      "image 48/233 /teamspace/studios/this_studio/PlantDoc-Dataset-3/test/images/Corn-northern-20corn-20leaf-20blight-8-21_jpg.rf.eb0461a15c50fab2e30d3d70459bc7a0.jpg: 640x640 1 Corn leaf blight, 131.3ms\n",
      "image 49/233 /teamspace/studios/this_studio/PlantDoc-Dataset-3/test/images/Corn-southern-rust-early-F1a-8-7-15_jpg.rf.b45389ae7cfdcf7d1da3e06231817931.jpg: 640x640 1 Corn rust leaf, 140.4ms\n",
      "image 50/233 /teamspace/studios/this_studio/PlantDoc-Dataset-3/test/images/CornRust1_jpg.rf.862c264802b4af37552cc218a2ac37f3.jpg: 640x640 1 Corn rust leaf, 140.0ms\n",
      "image 51/233 /teamspace/studios/this_studio/PlantDoc-Dataset-3/test/images/DAxpYpoWAAQxi1f_jpg.rf.d2b704c828273ed4cdb8ed7a3beb7af5.jpg: 640x640 4 Apple rust leafs, 194.2ms\n",
      "image 52/233 /teamspace/studios/this_studio/PlantDoc-Dataset-3/test/images/DIsease-Pest-Management_jpg.rf.41b6bf52c0912740f8fb9110776218ce.jpg: 640x640 5 Apple Scab Leafs, 1 Apple rust leaf, 163.2ms\n",
      "image 53/233 /teamspace/studios/this_studio/PlantDoc-Dataset-3/test/images/DSCF1248-1gz1wpc_jpg.rf.e5132ddda5a9c2dbee3aa2d844fe0aec.jpg: 640x640 2 Apple Scab Leafs, 191.7ms\n",
      "image 54/233 /teamspace/studios/this_studio/PlantDoc-Dataset-3/test/images/DSCN3768_JPG_jpg.rf.4124b1c9acc9ae137c819f228edf686a.jpg: 640x640 2 Bell_pepper leafs, 1 Blueberry leaf, 1 Raspberry leaf, 1 Tomato leaf late blight, 214.0ms\n"
     ]
    },
    {
     "name": "stdout",
     "output_type": "stream",
     "text": [
      "image 55/233 /teamspace/studios/this_studio/PlantDoc-Dataset-3/test/images/DSC_0492_JPG_jpg.rf.91957d5e28dddae35824190a79ab6eee.jpg: 640x640 7 Raspberry leafs, 185.2ms\n",
      "image 56/233 /teamspace/studios/this_studio/PlantDoc-Dataset-3/test/images/ECE47_jpg.rf.100625f42b7b12d45a91b1e73f5a8c1c.jpg: 640x640 1 Cherry leaf, 143.0ms\n",
      "image 57/233 /teamspace/studios/this_studio/PlantDoc-Dataset-3/test/images/Early_blight_1_jpg-1376579808_jpg.rf.a50ebcc91cd33cee7a245cda61b3e9bc.jpg: 640x640 1 Tomato leaf mosaic virus, 1 Tomato leaf yellow virus, 140.4ms\n",
      "image 58/233 /teamspace/studios/this_studio/PlantDoc-Dataset-3/test/images/Faske-20Southern-20rust-20of-20corn_jpg.rf.7ff212fae655a3e8c32b3845abbac04c.jpg: 640x640 1 Corn rust leaf, 131.7ms\n",
      "image 59/233 /teamspace/studios/this_studio/PlantDoc-Dataset-3/test/images/Fig_-2015_opta_jpg.rf.1e3d30cc9db0bc24f72b86a5bd259dea.jpg: 640x640 1 Tomato leaf mosaic virus, 1 Tomato leaf, 1 Tomato mold leaf, 144.9ms\n",
      "image 60/233 /teamspace/studios/this_studio/PlantDoc-Dataset-3/test/images/Figure-3-7_jpg.rf.88c710f4e904b158892a983a1002191b.jpg: 640x640 2 Tomato Septoria leaf spots, 129.8ms\n",
      "image 61/233 /teamspace/studios/this_studio/PlantDoc-Dataset-3/test/images/Fragaria-virginiana-6_jpg.rf.02f3bb0b4edb0fc781587e532115522e.jpg: 640x640 28 Strawberry leafs, 150.3ms\n",
      "image 62/233 /teamspace/studios/this_studio/PlantDoc-Dataset-3/test/images/Get-Rid-of-Mold-or-Powdery-Mildew-on-Squash-and-Cucumbers3-1_jpg.rf.01e73218c1222289d363439db54c112e.jpg: 640x640 1 Potato leaf, 135.9ms\n",
      "image 63/233 /teamspace/studios/this_studio/PlantDoc-Dataset-3/test/images/GrapeLeaf_jpg.rf.331ac6e055769aa15eb500f8271c3acc.jpg: 640x640 14 grape leafs, 145.1ms\n",
      "image 64/233 /teamspace/studios/this_studio/PlantDoc-Dataset-3/test/images/GrayLeafSpot_Chilvers_jpg.rf.c2fe36b2e862a2566994b25db840a321.jpg: 640x640 1 Corn Gray leaf spot, 1 Corn leaf blight, 1 Corn rust leaf, 130.1ms\n",
      "image 65/233 /teamspace/studios/this_studio/PlantDoc-Dataset-3/test/images/IMG_0649_JPG_jpg.rf.20e3e0fd18c10171a80138a4c21c6670.jpg: 640x640 1 Raspberry leaf, 1 Strawberry leaf, 134.6ms\n",
      "image 66/233 /teamspace/studios/this_studio/PlantDoc-Dataset-3/test/images/IMG_1153_JPG_jpg.rf.bf555a4202f697eec2d1f9c627ffcbb4.jpg: 640x640 1 Corn leaf blight, 1 Soyabean leaf, 145.1ms\n",
      "image 67/233 /teamspace/studios/this_studio/PlantDoc-Dataset-3/test/images/IMG_1726_JPG_jpg.rf.94fb77adb7e89fe556d3387775a3d123.jpg: 640x640 3 Squash Powdery mildew leafs, 136.6ms\n",
      "image 68/233 /teamspace/studios/this_studio/PlantDoc-Dataset-3/test/images/IMG_20140601_143916_7931_jpg.rf.7074d4ee29c381c900b60d8406cc0998.jpg: 640x640 3 Corn leaf blights, 153.6ms\n",
      "image 69/233 /teamspace/studios/this_studio/PlantDoc-Dataset-3/test/images/IMG_20140601_143928_0711_jpg.rf.7fc451b2aa02dc939c46079065ed4fd6.jpg: 640x640 1 Corn leaf blight, 130.6ms\n",
      "image 70/233 /teamspace/studios/this_studio/PlantDoc-Dataset-3/test/images/IMG_2474_JPG_jpg.rf.d2f50b83d571ab33560878b11aa18d98.jpg: 640x640 6 Raspberry leafs, 139.7ms\n",
      "image 71/233 /teamspace/studios/this_studio/PlantDoc-Dataset-3/test/images/IMG_4696_jpg.rf.494f5b8fab95f96d2469407815b80294.jpg: 640x640 13 Strawberry leafs, 2 grape leafs, 134.8ms\n",
      "image 72/233 /teamspace/studios/this_studio/PlantDoc-Dataset-3/test/images/IMG_4780_jpg.rf.06888aa5b13fee00c7496ce12ce73443.jpg: 640x640 8 Soyabean leafs, 1 Strawberry leaf, 140.7ms\n",
      "image 73/233 /teamspace/studios/this_studio/PlantDoc-Dataset-3/test/images/IMG_7182_original_JPG-1493665266_jpg.rf.c1d09e7ea36c1ff90ad3d5b7745e7f4b.jpg: 640x640 3 Raspberry leafs, 1 Strawberry leaf, 142.4ms\n",
      "image 74/233 /teamspace/studios/this_studio/PlantDoc-Dataset-3/test/images/IU-TYLCV_img_6_jpg.rf.21296af536f31787d2e8b024354d6e77.jpg: 640x640 2 Blueberry leafs, 46 Tomato leaf bacterial spots, 131.5ms\n",
      "image 75/233 /teamspace/studios/this_studio/PlantDoc-Dataset-3/test/images/Jeter-20Mtn-20Farm_7053_JPG_jpg.rf.eda6d92875ad2416f90fe616df2c7ffd.jpg: 640x640 3 Tomato Septoria leaf spots, 1 Tomato leaf mosaic virus, 141.9ms\n",
      "image 76/233 /teamspace/studios/this_studio/PlantDoc-Dataset-3/test/images/Late-Blight-of-Potato-and-Tomato_jpg.rf.d87d77272b775143abb6d831fdc3ebb6.jpg: 640x640 1 Potato leaf early blight, 3 Tomato leaf yellow viruss, 125.7ms\n",
      "image 77/233 /teamspace/studios/this_studio/PlantDoc-Dataset-3/test/images/Late-blight-on-a-tomato-leaf_jpg.rf.31bd7387500cbf5c202220f6d77ea05c.jpg: 640x640 1 Tomato leaf yellow virus, 124.4ms\n",
      "image 78/233 /teamspace/studios/this_studio/PlantDoc-Dataset-3/test/images/LateBlt_FromRusinek_jpg.rf.8e064ee636cae2444601db9b739b4bc8.jpg: 640x640 2 Tomato leaf yellow viruss, 131.1ms\n",
      "image 79/233 /teamspace/studios/this_studio/PlantDoc-Dataset-3/test/images/Late_blight_on_tomato_leaf_-287871756748-29_jpg.rf.6a47a2bfc543146bff8c8b738252d7b8.jpg: 640x640 (no detections), 144.6ms\n",
      "image 80/233 /teamspace/studios/this_studio/PlantDoc-Dataset-3/test/images/Lateblight_jpg.rf.efb3fbf662d564c29954b5f667b90122.jpg: 640x640 4 Blueberry leafs, 9 Potato leaf early blights, 1 Potato leaf, 128.7ms\n",
      "image 81/233 /teamspace/studios/this_studio/PlantDoc-Dataset-3/test/images/M7JV1_jpg.rf.ce1e970081415590c488d11ce839cd48.jpg: 640x640 1 Bell_pepper leaf spot, 3 Bell_pepper leafs, 146.1ms\n",
      "image 82/233 /teamspace/studios/this_studio/PlantDoc-Dataset-3/test/images/NCLB-2_jpg.rf.c13d71e489bfbf4fdc80d81a0a747129.jpg: 640x640 1 Corn Gray leaf spot, 157.4ms\n",
      "image 83/233 /teamspace/studios/this_studio/PlantDoc-Dataset-3/test/images/Northern-corn-leaf-blight-NM-F1a_jpg.rf.4b902f518225aa6095ed06f0e26e1db4.jpg: 640x640 1 Corn leaf blight, 169.0ms\n",
      "image 84/233 /teamspace/studios/this_studio/PlantDoc-Dataset-3/test/images/P1015775_JPG_jpg.rf.82fae689204a5e35408319eddbd86925.jpg: 640x640 7 Peach leafs, 187.3ms\n",
      "image 85/233 /teamspace/studios/this_studio/PlantDoc-Dataset-3/test/images/P1130239_jpg.rf.e9a2bd65f6986f297bf91bba9c1a8324.jpg: 640x640 1 Blueberry leaf, 1 Raspberry leaf, 2 grape leafs, 185.8ms\n",
      "image 86/233 /teamspace/studios/this_studio/PlantDoc-Dataset-3/test/images/P1200644-Vaccinium-alaskaense-Alaska-Blueberry-cr_jpg.rf.91b1a5bd12d430861e2a49993b296236.jpg: 640x640 19 Blueberry leafs, 187.9ms\n",
      "image 87/233 /teamspace/studios/this_studio/PlantDoc-Dataset-3/test/images/Peachleaf-Willow-leaf-1_jpg.rf.bb5e0ee59b4b8b126da3d7229497fb2e.jpg: 640x640 2 Cherry leafs, 1 Peach leaf, 145.4ms\n",
      "image 88/233 /teamspace/studios/this_studio/PlantDoc-Dataset-3/test/images/Pepper-problem_jpg.rf.e2fa0bf9089a3f314f6281cc22323ff8.jpg: 640x640 3 Blueberry leafs, 2 Potato leafs, 1 Soyabean leaf, 2 Tomato mold leafs, 127.6ms\n",
      "image 89/233 /teamspace/studios/this_studio/PlantDoc-Dataset-3/test/images/Potato-late-blight-008_jpg.rf.6249a2af22954d14870080cf9cf87cf8.jpg: 640x640 2 Potato leaf early blights, 2 Tomato leaf yellow viruss, 2 Tomato mold leafs, 151.1ms\n",
      "image 90/233 /teamspace/studios/this_studio/PlantDoc-Dataset-3/test/images/RAx1iE_jpg.rf.3ed59bfba173bd6d163e6639599013ad.jpg: 640x640 5 Apple leafs, 1 Cherry leaf, 138.7ms\n",
      "image 91/233 /teamspace/studios/this_studio/PlantDoc-Dataset-3/test/images/Red-Blueberry-Leaves_jpg.rf.8d727516b4bcf14dc735952286f2d83e.jpg: 640x640 2 Squash Powdery mildew leafs, 143.9ms\n",
      "image 92/233 /teamspace/studios/this_studio/PlantDoc-Dataset-3/test/images/Southern-20corn-20rust_ashx-w-600_jpg.rf.f95e745e5ad2859caf0096ddfc25a8e3.jpg: 640x640 1 Corn rust leaf, 126.9ms\n",
      "image 93/233 /teamspace/studios/this_studio/PlantDoc-Dataset-3/test/images/Southern-rust-2_Wise_jpg.rf.401237c94d77a005b1fddb26efd86558.jpg: 640x640 1 Corn rust leaf, 146.4ms\n",
      "image 94/233 /teamspace/studios/this_studio/PlantDoc-Dataset-3/test/images/Strawberry-leaves_jpg.rf.73cf186c06dc80c7fd680de552a2269c.jpg: 640x640 1 Raspberry leaf, 12 Strawberry leafs, 147.7ms\n",
      "image 95/233 /teamspace/studios/this_studio/PlantDoc-Dataset-3/test/images/TCSV_Pepper-20-284-29_jpg.rf.2a14c9ec0f3b9bec39844070d16a40f2.jpg: 640x640 7 Bell_pepper leaf spots, 129.0ms\n",
      "image 96/233 /teamspace/studios/this_studio/PlantDoc-Dataset-3/test/images/TYLCV-tomate-DB-445-171_jpg.rf.ee104f60b97c3ddf68b1193aa36e7930.jpg: 640x640 19 Tomato leaf bacterial spots, 138.1ms\n",
      "image 97/233 /teamspace/studios/this_studio/PlantDoc-Dataset-3/test/images/Tomato-20greenhouse-20phythotoxicity03F_JPG_jpg.rf.59070e40b10bd0f6a2555b61df2fe663.jpg: 640x640 1 Strawberry leaf, 7 Tomato Septoria leaf spots, 1 Tomato leaf, 128.8ms\n",
      "image 98/233 /teamspace/studios/this_studio/PlantDoc-Dataset-3/test/images/Tomato-Canker-Marginal-Necrosis-Leaf-GH-Guat-50-QUALITY-10e6dzu_jpg.rf.66334519459ac4af703a540bbfd39d7c.jpg: 640x640 1 Tomato leaf mosaic virus, 145.9ms\n",
      "image 99/233 /teamspace/studios/this_studio/PlantDoc-Dataset-3/test/images/Tomato-early-blight_1_1-12wmver_jpg.rf.98da4ff035e171c1696e1c62a330824c.jpg: 640x640 2 Tomato leaf yellow viruss, 141.7ms\n",
      "image 100/233 /teamspace/studios/this_studio/PlantDoc-Dataset-3/test/images/Tomato2_original_JPG-1472597932_jpg.rf.9233d510c2cc8f8ce2c83f3937d38805.jpg: 640x640 3 Tomato Septoria leaf spots, 3 Tomato leaf late blights, 149.3ms\n",
      "image 101/233 /teamspace/studios/this_studio/PlantDoc-Dataset-3/test/images/Tomato_Blight_Leaves_JPG_jpg.rf.a9d4058badf1347523db1f76adce7acb.jpg: 640x640 2 Bell_pepper leaf spots, 1 Bell_pepper leaf, 3 Tomato Early blight leafs, 9 Tomato mold leafs, 142.0ms\n",
      "image 102/233 /teamspace/studios/this_studio/PlantDoc-Dataset-3/test/images/a-mid-season-soybean-plants-leaves-show-virtually-no-insect-damage-cxy77t_jpg.rf.59d25c22087cfa141676f6712889c36f.jpg: 640x640 11 Soyabean leafs, 129.4ms\n",
      "image 103/233 /teamspace/studios/this_studio/PlantDoc-Dataset-3/test/images/apple-rust-disease_10_845384767_jpg.rf.09841f4a318debba3167759cc275ead3.jpg: 640x640 1 Apple Scab Leaf, 143.5ms\n",
      "image 104/233 /teamspace/studios/this_studio/PlantDoc-Dataset-3/test/images/apple-scab-venturia-inaequalis-lesions-mycelium-on-leaves-a8h9nb_jpg.rf.4671910248f9b44bc9791841ea6003cf.jpg: 640x640 2 Apple rust leafs, 3 Blueberry leafs, 136.2ms\n",
      "image 105/233 /teamspace/studios/this_studio/PlantDoc-Dataset-3/test/images/apple-tree-branch-plant-fruit-leaf-flower-food-green-produce-flora-immature-apple-tree-flowering-plant-wild-apple-tree-apple-gear-land-plant-606389_jpg.rf.edaef666e22e6c5bb81515cc4cb50829.jpg: 640x640 1 Apple leaf, 1 Soyabean leaf, 144.2ms\n",
      "image 106/233 /teamspace/studios/this_studio/PlantDoc-Dataset-3/test/images/apple_scab_1465_180_jpg.rf.898da03e119304d25644758f92c3d194.jpg: 640x640 1 Apple Scab Leaf, 134.2ms\n",
      "image 107/233 /teamspace/studios/this_studio/PlantDoc-Dataset-3/test/images/apples-severely-affected-by-apple-scab-venturia-inaequalis-dgk11a_jpg.rf.9aea6f72a1a87beee1b6f71115deea80.jpg: 640x640 1 Apple Scab Leaf, 1 Blueberry leaf, 140.6ms\n",
      "image 108/233 /teamspace/studios/this_studio/PlantDoc-Dataset-3/test/images/applescab2_jpg.rf.9dd2fd2d3ac3738e8ac283e92d10f89d.jpg: 640x640 1 Potato leaf, 1 Tomato leaf late blight, 135.7ms\n",
      "image 109/233 /teamspace/studios/this_studio/PlantDoc-Dataset-3/test/images/bacterial-20leaf-20spot_jpg.rf.f33833107166d91931882c6e0f87c0d2.jpg: 640x640 6 grape leaf black rots, 137.9ms\n",
      "image 110/233 /teamspace/studios/this_studio/PlantDoc-Dataset-3/test/images/bacterial-corn-1_jpg.rf.5d2bab14d89e86f5393c8c87b219c2e6.jpg: 640x640 1 Corn leaf blight, 142.2ms\n",
      "image 111/233 /teamspace/studios/this_studio/PlantDoc-Dataset-3/test/images/bacterial-speck-tomato-2_jpg.rf.dd55e2276befc2043b9206cb1cebb57f.jpg: 640x640 1 Tomato Septoria leaf spot, 1 Tomato leaf mosaic virus, 141.2ms\n",
      "image 112/233 /teamspace/studios/this_studio/PlantDoc-Dataset-3/test/images/bacterial-spot-of-tomato-7-638_jpg.rf.3b434d502d98791ce9943dba0d111cbb.jpg: 640x640 1 Tomato leaf mosaic virus, 131.9ms\n",
      "image 113/233 /teamspace/studios/this_studio/PlantDoc-Dataset-3/test/images/bc34aec4ea7f60a64e380fda44c2f380_jpg.rf.76083ce89f4ee66e7ba5f8f0564b3e40.jpg: 640x640 1 Tomato leaf late blight, 3 Tomato leaf mosaic viruss, 149.1ms\n",
      "image 114/233 /teamspace/studios/this_studio/PlantDoc-Dataset-3/test/images/black_rot-grape_leaf_jpeg_jpg.rf.c467057dce38eb69c93ce23be29d6995.jpg: 640x640 1 Apple rust leaf, 1 grape leaf black rot, 187.5ms\n",
      "image 115/233 /teamspace/studios/this_studio/PlantDoc-Dataset-3/test/images/bls-lesions-tjz-hr_jpg.rf.64b22840221a62bed022ed8d6782d458.jpg: 640x640 1 Corn leaf blight, 197.6ms\n",
      "image 116/233 /teamspace/studios/this_studio/PlantDoc-Dataset-3/test/images/blueberry-leaves-5931369_jpg.rf.166af6bbc12dc048e66b93918cc770fc.jpg: 640x640 2 Blueberry leafs, 156.0ms\n",
      "image 117/233 /teamspace/studios/this_studio/PlantDoc-Dataset-3/test/images/blueberry-leaves-in-October_jpg.rf.f6108df5548a3fd63bba0f95bfc572d4.jpg: 640x640 20 Blueberry leafs, 206.2ms\n",
      "image 118/233 /teamspace/studios/this_studio/PlantDoc-Dataset-3/test/images/br-ocw-dm_jpg.rf.c57ce7fb148d90003cbb645bdacfa6c0.jpg: 640x640 1 Apple Scab Leaf, 1 Apple rust leaf, 167.6ms\n",
      "image 119/233 /teamspace/studios/this_studio/PlantDoc-Dataset-3/test/images/c-204-raspberry_jpg.rf.2131500c80b6892d23049bf41780876e.jpg: 640x640 5 Raspberry leafs, 141.6ms\n",
      "image 120/233 /teamspace/studios/this_studio/PlantDoc-Dataset-3/test/images/canada_red_chokecherry_11_medium__jpg.rf.6ed75f38b8c60935bccb81c6360a7098.jpg: 640x640 5 Blueberry leafs, 1 Cherry leaf, 181.8ms\n",
      "image 121/233 /teamspace/studios/this_studio/PlantDoc-Dataset-3/test/images/car1_jpg.rf.3976cf274de22e47e8b8ea33438caa3e.jpg: 640x640 1 Apple rust leaf, 186.6ms\n",
      "image 122/233 /teamspace/studios/this_studio/PlantDoc-Dataset-3/test/images/cedar-20apple-20rust-20upper-20leaf-20surface-20S-20ne-20OH-20RA-209-2-16_jpg.rf.e515d2563405138804b96a0d54911ebe.jpg: 640x640 1 Cherry leaf, 4 Strawberry leafs, 139.1ms\n",
      "image 123/233 /teamspace/studios/this_studio/PlantDoc-Dataset-3/test/images/cedar-apple-rust_fig-1_jpg.rf.3a500b1171d3f5d645b6419ef8c8f0dc.jpg: 640x640 1 Apple rust leaf, 132.9ms\n",
      "image 124/233 /teamspace/studios/this_studio/PlantDoc-Dataset-3/test/images/corn-bacterial-leaf-streak-backlit-severe-lesions_jpg.rf.9aa2c463853831586122dadb99dbc38c.jpg: 640x640 1 Corn Gray leaf spot, 146.4ms\n",
      "image 125/233 /teamspace/studios/this_studio/PlantDoc-Dataset-3/test/images/corn-bacterial-leaf-streak-f4_jpg.rf.51dee4a525ef464cd90fecbf5ea92393.jpg: 640x640 3 Corn leaf blights, 136.3ms\n",
      "image 126/233 /teamspace/studios/this_studio/PlantDoc-Dataset-3/test/images/corn-rust-4_jpg.rf.3073a791c497812fea2b43affc3a994c.jpg: 640x640 1 Corn rust leaf, 127.3ms\n",
      "image 127/233 /teamspace/studios/this_studio/PlantDoc-Dataset-3/test/images/corn-southern-rust-2_jpg.rf.8d900b9a69e246b58b2d428b268e15e7.jpg: 640x640 1 Corn rust leaf, 128.4ms\n",
      "image 128/233 /teamspace/studios/this_studio/PlantDoc-Dataset-3/test/images/corn-southern-rust-spores_jpg.rf.4c9878e4267aab2cba9cae25d019b9cd.jpg: 640x640 1 Corn rust leaf, 139.7ms\n",
      "image 129/233 /teamspace/studios/this_studio/PlantDoc-Dataset-3/test/images/crabapple-20scab-20Snowdrift-201-20Crab-206-24-16_JPG_jpg.rf.0f269208bc9e1fcc8abae77f3907a144.jpg: 640x640 2 Apple Scab Leafs, 1 Apple rust leaf, 125.8ms\n",
      "image 130/233 /teamspace/studios/this_studio/PlantDoc-Dataset-3/test/images/cropped-symptom_potato_late_blight_jpg.rf.0b75fcc51a9058ddab665d3bde60ea54.jpg: 640x640 1 Corn rust leaf, 134.0ms\n",
      "image 131/233 /teamspace/studios/this_studio/PlantDoc-Dataset-3/test/images/cucurbit-powdery-mildew-fig-1_jpg.rf.c41e41546458a371cf1c4077da519a64.jpg: 640x640 3 Squash Powdery mildew leafs, 131.7ms\n",
      "image 132/233 /teamspace/studios/this_studio/PlantDoc-Dataset-3/test/images/cucurbit-squash_powdery-mildew-2L_jpg.rf.ca586309cb40ff408012b37691c7e265.jpg: 640x640 6 Squash Powdery mildew leafs, 1 Strawberry leaf, 142.8ms\n",
      "image 133/233 /teamspace/studios/this_studio/PlantDoc-Dataset-3/test/images/d4fc0f56-da2e-4d7e-9a22-2430b562eeee_jpeg_jpg.rf.8f8397ab9785bfe65028cd710baea9a3.jpg: 640x640 2 Potato leaf early blights, 1 Squash Powdery mildew leaf, 1 Tomato leaf yellow virus, 2 grape leafs, 127.0ms\n",
      "image 134/233 /teamspace/studios/this_studio/PlantDoc-Dataset-3/test/images/dc4cfbd6f94d0435ab166a06acb1cde0_jpg.rf.242bf028e5ca853606131a0742e9737d.jpg: 640x640 1 Squash Powdery mildew leaf, 133.3ms\n",
      "image 135/233 /teamspace/studios/this_studio/PlantDoc-Dataset-3/test/images/depositphotos_120361722-stock-photo-tomato-leaf-closeup_jpg.rf.fda9da4d5f12af405689e661fca8a6d1.jpg: 640x640 3 Tomato leaf late blights, 164.8ms\n",
      "image 136/233 /teamspace/studios/this_studio/PlantDoc-Dataset-3/test/images/disease2_jpg.rf.15961354bd0fe8c5219444974cb6fed1.jpg: 640x640 1 Corn rust leaf, 141.9ms\n",
      "image 137/233 /teamspace/studios/this_studio/PlantDoc-Dataset-3/test/images/disease_JPG_jpg.rf.4531e80cfd23314231de3f14e88e827e.jpg: 640x640 1 Corn rust leaf, 127.4ms\n",
      "image 138/233 /teamspace/studios/this_studio/PlantDoc-Dataset-3/test/images/dsc_4624s_jpg.rf.9dedf5ed3c8dd7972d94fa3960e7ebb0.jpg: 640x640 1 Tomato Early blight leaf, 1 Tomato Septoria leaf spot, 140.0ms\n",
      "image 139/233 /teamspace/studios/this_studio/PlantDoc-Dataset-3/test/images/dsc_8151s_jpg.rf.8e6e260265a898fd4057f8cd41aee512.jpg: 640x640 1 Potato leaf early blight, 2 Tomato Early blight leafs, 3 Tomato leaf yellow viruss, 1 Tomato mold leaf, 130.1ms\n",
      "image 140/233 /teamspace/studios/this_studio/PlantDoc-Dataset-3/test/images/dscn2512_jpg.rf.4b59dbd7dcad59dd6531d09bd4209fd8.jpg: 640x640 6 Squash Powdery mildew leafs, 1 Tomato Septoria leaf spot, 128.4ms\n",
      "image 141/233 /teamspace/studios/this_studio/PlantDoc-Dataset-3/test/images/early-blight-or-targfet-spot-alternaria-solani-lesions-on-a-tomato-ACG8W6_jpg.rf.d16eeb663d112e3e2e03e9e72f3ac8a6.jpg: 640x640 1 Corn leaf blight, 1 Tomato leaf yellow virus, 145.3ms\n",
      "image 142/233 /teamspace/studios/this_studio/PlantDoc-Dataset-3/test/images/early-blight-septoria-ls-fig-1_jpg.rf.3a3b3ee0ebe97ef9257ac91173b3a82a.jpg: 640x640 1 Tomato Septoria leaf spot, 135.8ms\n",
      "image 143/233 /teamspace/studios/this_studio/PlantDoc-Dataset-3/test/images/early-blight1_jpg.rf.3ff5a9840efc353582c802ac63b44d14.jpg: 640x640 (no detections), 136.8ms\n",
      "image 144/233 /teamspace/studios/this_studio/PlantDoc-Dataset-3/test/images/early_symptoms_of_crabapple_scab_on_prairifire_jpg.rf.2a4342049e3583137313fb9c0b79e8f7.jpg: 640x640 1 Apple rust leaf, 1 Bell_pepper leaf, 1 Blueberry leaf, 148.5ms\n",
      "image 145/233 /teamspace/studios/this_studio/PlantDoc-Dataset-3/test/images/ed8e20_jpg.rf.01a8cf6ae242a704fb80df702bc3364a.jpg: 640x640 1 Soyabean leaf, 200.4ms\n",
      "image 146/233 /teamspace/studios/this_studio/PlantDoc-Dataset-3/test/images/fac66s01h_jpg.rf.53744340a32652f0ee3702f1256660dd.jpg: 640x640 1 Apple Scab Leaf, 179.7ms\n",
      "image 147/233 /teamspace/studios/this_studio/PlantDoc-Dataset-3/test/images/fpls-08-01602-g001_jpg.rf.5e60b6d988953bcb0a91f4ee72ec5127.jpg: 640x640 1 Tomato leaf late blight, 1 Tomato mold leaf, 1 grape leaf, 186.9ms\n",
      "image 148/233 /teamspace/studios/this_studio/PlantDoc-Dataset-3/test/images/ga-2015-06-01-crust-02_jpg.rf.1c048b8aee91307b3d544a478e73ee32.jpg: 640x640 2 Corn rust leafs, 216.6ms\n",
      "image 149/233 /teamspace/studios/this_studio/PlantDoc-Dataset-3/test/images/gcp_A-2_Late_Blight_of_potatoes_callout1_jpg.rf.f6919dc7f7fb9438e6cf889cd4d51b40.jpg: 640x640 1 Potato leaf early blight, 139.7ms\n",
      "image 150/233 /teamspace/studios/this_studio/PlantDoc-Dataset-3/test/images/grape-leaf-blossoming-buds-spring-macro-31132897_jpg.rf.fbd1da279fe968f1d4cf26a85c7ce726.jpg: 640x640 1 Squash Powdery mildew leaf, 1 grape leaf, 137.4ms\n",
      "image 151/233 /teamspace/studios/this_studio/PlantDoc-Dataset-3/test/images/grape-leaf-detail-1457175_jpg.rf.b53ec7656ca7e2379896a97a227b2613.jpg: 640x640 2 Apple leafs, 131.8ms\n",
      "image 152/233 /teamspace/studios/this_studio/PlantDoc-Dataset-3/test/images/green-apple-fruits-leaf-16266077_jpg.rf.5fe75ed7ac36ed0856f78777b08421e8.jpg: 640x640 1 Apple leaf, 149.6ms\n",
      "image 153/233 /teamspace/studios/this_studio/PlantDoc-Dataset-3/test/images/green-strawberry-leaf-isolated-on-white-picture-id623362994-k-6-m-623362994-s-612x612-w-0-h-l350NQvVUUsLkRD1jOeEDnUledIWPjFXi86jd_Uv0OE-_jpg.rf.514cf02ef5a0dac3940fb08c059b80fd.jpg: 640x640 3 Strawberry leafs, 133.9ms\n",
      "image 154/233 /teamspace/studios/this_studio/PlantDoc-Dataset-3/test/images/groovy-raspberry3_2_jpg.rf.80107a90ab7d4055af0345a7dbd3ff7b.jpg: 640x640 4 Raspberry leafs, 143.1ms\n",
      "image 155/233 /teamspace/studios/this_studio/PlantDoc-Dataset-3/test/images/guttation-on-the-leaves-of-a-strawberry-plant-leaf-guttation-BN3DM8_jpg.rf.b05af85c8b2859d3d2e693186b3fe583.jpg: 640x640 1 Strawberry leaf, 1 grape leaf, 138.5ms\n",
      "image 156/233 /teamspace/studios/this_studio/PlantDoc-Dataset-3/test/images/halleck_tomato_earlyblight__inline-half_jpg.rf.473c7448c932639ae837762791213861.jpg: 640x640 1 Tomato leaf yellow virus, 142.3ms\n",
      "image 157/233 /teamspace/studios/this_studio/PlantDoc-Dataset-3/test/images/image024_jpg.rf.1aa30ad1e3796f1b7404890089cd9456.jpg: 640x640 1 Corn leaf blight, 1 Tomato leaf late blight, 2 Tomato leafs, 131.2ms\n",
      "image 158/233 /teamspace/studios/this_studio/PlantDoc-Dataset-3/test/images/image_original_jpeg-1472603885_jpg.rf.2ca00bd355d3512994b47f3249cce164.jpg: 640x640 1 Bell_pepper leaf spot, 139.7ms\n",
      "image 159/233 /teamspace/studios/this_studio/PlantDoc-Dataset-3/test/images/img_0509_jpg.rf.3b4a49c536eb08348e65c46fb306725d.jpg: 640x640 13 Raspberry leafs, 9 Strawberry leafs, 130.7ms\n",
      "image 160/233 /teamspace/studios/this_studio/PlantDoc-Dataset-3/test/images/immatureleaffootbug_jpg.rf.8451690dbfb89b42bbcaf23fb72ad8a5.jpg: 640x640 2 Apple rust leafs, 4 Blueberry leafs, 142.5ms\n",
      "image 161/233 /teamspace/studios/this_studio/PlantDoc-Dataset-3/test/images/indian-strawberry-leaf_jpg.rf.b3abe8ee8bab73a876e3a3f5a789ed6f.jpg: 640x640 1 Raspberry leaf, 9 Strawberry leafs, 154.9ms\n",
      "image 162/233 /teamspace/studios/this_studio/PlantDoc-Dataset-3/test/images/late-blight-midwest_twitter_jpg.rf.41ea71d074fb8ef274421e76c3e32b6a.jpg: 640x640 1 Potato leaf early blight, 134.7ms\n",
      "image 163/233 /teamspace/studios/this_studio/PlantDoc-Dataset-3/test/images/late-blight-potato_jpg.rf.eca3d878876008f1b6c3325c32cbe5bc.jpg: 640x640 2 Potato leafs, 2 grape leaf black rots, 145.3ms\n",
      "image 164/233 /teamspace/studios/this_studio/PlantDoc-Dataset-3/test/images/late-blight-tom-leaf_jpg.rf.beb846e2654bb47f28ef756c2581cbf5.jpg: 640x640 3 Tomato leaf late blights, 1 Tomato leaf yellow virus, 1 Tomato mold leaf, 137.3ms\n",
      "image 165/233 /teamspace/studios/this_studio/PlantDoc-Dataset-3/test/images/late_blight1_jpg.rf.9c55311f7044e586ad1966227ea3a059.jpg: 640x640 1 Potato leaf, 1 Tomato leaf yellow virus, 138.6ms\n",
      "image 166/233 /teamspace/studios/this_studio/PlantDoc-Dataset-3/test/images/late_blight_drought_leaves1x1200_jpg.rf.e5f6056906e4b6d29082f00e7d1c9d68.jpg: 640x640 1 Tomato leaf mosaic virus, 12 Tomato leaf yellow viruss, 139.0ms\n",
      "image 167/233 /teamspace/studios/this_studio/PlantDoc-Dataset-3/test/images/lb_leaf_lesions4x1200_jpg.rf.1c9ca56cc7ec6cb4dd491ba0aa995d5b.jpg: 640x640 1 Tomato leaf yellow virus, 128.5ms\n",
      "image 168/233 /teamspace/studios/this_studio/PlantDoc-Dataset-3/test/images/leaf_mold1_jpg.rf.b8decf519851ac81aa071db5036b100a.jpg: 640x640 2 Potato leaf early blights, 136.4ms\n",
      "image 169/233 /teamspace/studios/this_studio/PlantDoc-Dataset-3/test/images/leaf_mold_tomato1x1200_jpg.rf.43e794b16011ee4f5ae4f1fe88f9a93f.jpg: 640x640 1 Tomato leaf yellow virus, 1 Tomato mold leaf, 143.4ms\n",
      "image 170/233 /teamspace/studios/this_studio/PlantDoc-Dataset-3/test/images/leaf_mold_tomato3x1200_jpg.rf.5dc2599675eabd4674d60fedbb4066f4.jpg: 640x640 1 Bell_pepper leaf spot, 140.1ms\n",
      "image 171/233 /teamspace/studios/this_studio/PlantDoc-Dataset-3/test/images/leaf_mold_tomato4x1200_jpg.rf.14537c8c35d96c668ecb5121f4da31c4.jpg: 640x640 1 Tomato leaf yellow virus, 2 Tomato mold leafs, 148.0ms\n",
      "image 172/233 /teamspace/studios/this_studio/PlantDoc-Dataset-3/test/images/leaves-of-a-raspberry-stock-photo-1214081_jpg.rf.0b79f7234ddcc85c07b80672a424271c.jpg: 640x640 11 Raspberry leafs, 135.4ms\n",
      "image 173/233 /teamspace/studios/this_studio/PlantDoc-Dataset-3/test/images/leaves11_jpg.rf.bc7bacbfa9829658ae8b337abb606f2f.jpg: 640x640 1 Bell_pepper leaf, 127.6ms\n",
      "image 174/233 /teamspace/studios/this_studio/PlantDoc-Dataset-3/test/images/marioncalico2_jpg.rf.509cd633b66528baeeb55558e2ca22c0.jpg: 640x640 1 Apple Scab Leaf, 1 Potato leaf, 145.5ms\n",
      "image 175/233 /teamspace/studios/this_studio/PlantDoc-Dataset-3/test/images/may27pepleaes002_jpg.rf.6f032d8013ce312cdb86ba2bf9cebda5.jpg: 640x640 2 Bell_pepper leaf spots, 157.9ms\n",
      "image 176/233 /teamspace/studios/this_studio/PlantDoc-Dataset-3/test/images/mildew-on-leaf_jpg.rf.7de566ede21858290d79d140b12fc9de.jpg: 640x640 3 Squash Powdery mildew leafs, 1 grape leaf, 177.4ms\n",
      "image 177/233 /teamspace/studios/this_studio/PlantDoc-Dataset-3/test/images/nPP7P_jpg.rf.88d58b6979bebe40e55a50752ca8d285.jpg: 640x640 1 Apple rust leaf, 206.2ms\n",
      "image 178/233 /teamspace/studios/this_studio/PlantDoc-Dataset-3/test/images/nclb-2015-n-mcghee_jpg.rf.d967044cb802448abb6f8efcdface98d.jpg: 640x640 2 Corn leaf blights, 190.3ms\n",
      "image 179/233 /teamspace/studios/this_studio/PlantDoc-Dataset-3/test/images/ncls-2016-a-shirley_jpg.rf.5848b5890a25c5606184afe9a99eea02.jpg: 640x640 1 Corn leaf blight, 191.3ms\n",
      "image 180/233 /teamspace/studios/this_studio/PlantDoc-Dataset-3/test/images/p1020076cs_jpg.rf.b0d8a4788a060d06760ee7a10a91f655.jpg: 640x640 1 Peach leaf, 1 Tomato leaf yellow virus, 181.8ms\n",
      "image 181/233 /teamspace/studios/this_studio/PlantDoc-Dataset-3/test/images/p1070616_jpg.rf.e15aa76e0912afa7040ab6b8349b6017.jpg: 640x640 6 Squash Powdery mildew leafs, 142.7ms\n",
      "image 182/233 /teamspace/studios/this_studio/PlantDoc-Dataset-3/test/images/pddl-highlights-fig-1-bact-spot_jpg.rf.4c9a9feb1bd0678f75d369407eeb8175.jpg: 640x640 1 Tomato Early blight leaf, 4 Tomato Septoria leaf spots, 143.1ms\n",
      "image 183/233 /teamspace/studios/this_studio/PlantDoc-Dataset-3/test/images/peach-tree-trunk-new-leaf-18757494_jpg.rf.58e5ff251720e6dde116feaafa1b663c.jpg: 640x640 1 Corn rust leaf, 2 Peach leafs, 139.0ms\n",
      "image 184/233 /teamspace/studios/this_studio/PlantDoc-Dataset-3/test/images/pepper_bacterial-spot_02_zoom_jpg.rf.1047b10ffd9c2d2f26f6f2e36db20f8e.jpg: 640x640 2 Bell_pepper leaf spots, 2 Blueberry leafs, 1 Potato leaf early blight, 1 Soyabean leaf, 1 Tomato mold leaf, 144.0ms\n",
      "image 185/233 /teamspace/studios/this_studio/PlantDoc-Dataset-3/test/images/pepper_phytophtera12x500_jpg.rf.c84b973e53a5ec0e29b94c87263ebd51.jpg: 640x640 1 Bell_pepper leaf, 3 Tomato mold leafs, 140.0ms\n",
      "image 186/233 /teamspace/studios/this_studio/PlantDoc-Dataset-3/test/images/photo-764060_JPG_jpg.rf.4449ce3e70345534b0b8ff1fef4e3b55.jpg: 640x640 1 Blueberry leaf, 1 Potato leaf early blight, 1 Tomato leaf late blight, 2 Tomato mold leafs, 137.5ms\n",
      "image 187/233 /teamspace/studios/this_studio/PlantDoc-Dataset-3/test/images/potato_late-blight_05_zoom_jpg.rf.5fe06e544a56df026eddbf89b079652a.jpg: 640x640 1 Potato leaf early blight, 1 Potato leaf, 1 Soyabean leaf, 147.0ms\n",
      "image 188/233 /teamspace/studios/this_studio/PlantDoc-Dataset-3/test/images/potatolb_small_leaf_lesionx1200_jpg.rf.fe183ebb047dd954a3e6de9066dd76fa.jpg: 640x640 2 Potato leaf early blights, 1 Tomato leaf yellow virus, 130.6ms\n",
      "image 189/233 /teamspace/studios/this_studio/PlantDoc-Dataset-3/test/images/potatolb_upper_leafcux1200_jpg.rf.e4d2dccca964a9c0c00b50567c5e5454.jpg: 640x640 2 Potato leaf early blights, 139.4ms\n",
      "image 190/233 /teamspace/studios/this_studio/PlantDoc-Dataset-3/test/images/powderymildewcucurb-jallen_jpg.rf.a46eb87ba7d6d73f05ab3dc83c499f42.jpg: 640x640 9 Squash Powdery mildew leafs, 1 grape leaf, 127.2ms\n",
      "image 191/233 /teamspace/studios/this_studio/PlantDoc-Dataset-3/test/images/powderymildewpumpkinaiyura6151_jpg.rf.01cf70bd5573dd2751ca40357b93cfca.jpg: 640x640 4 Squash Powdery mildew leafs, 1 Tomato Early blight leaf, 127.5ms\n",
      "image 192/233 /teamspace/studios/this_studio/PlantDoc-Dataset-3/test/images/prunsero_twig3_jpg.rf.e006f871bf534be0cbf67a12f3d0ba92.jpg: 640x640 1 Apple leaf, 1 Apple rust leaf, 134.9ms\n",
      "image 193/233 /teamspace/studios/this_studio/PlantDoc-Dataset-3/test/images/raspberry-2Bleaves_jpg.rf.7984c36c2d908bc373d826b901906c71.jpg: 640x640 2 Raspberry leafs, 1 grape leaf, 138.7ms\n",
      "image 194/233 /teamspace/studios/this_studio/PlantDoc-Dataset-3/test/images/raspberry-leaf-26572588_jpg.rf.03f890932cb7b75930ef7291fbc6f25d.jpg: 640x640 3 Raspberry leafs, 142.7ms\n",
      "image 195/233 /teamspace/studios/this_studio/PlantDoc-Dataset-3/test/images/raspberry_leaves_JPG_JPG_jpg.rf.e4387097adffca6d653bfff5b840326e.jpg: 640x640 25 Raspberry leafs, 138.0ms\n",
      "image 196/233 /teamspace/studios/this_studio/PlantDoc-Dataset-3/test/images/red-apple-leaf-slice-white-background-29914331_jpg.rf.d461b0a6c2df1510254ca99449cf7121.jpg: 640x640 1 Apple leaf, 1 Peach leaf, 138.9ms\n",
      "image 197/233 /teamspace/studios/this_studio/PlantDoc-Dataset-3/test/images/red-rspberry-leaf-help-strengthen-the-uterus-and-the-lining-of-the-uterus_jpg.rf.1af0fe8248d502c4459af2f6e87ea148.jpg: 640x640 7 Raspberry leafs, 137.0ms\n",
      "image 198/233 /teamspace/studios/this_studio/PlantDoc-Dataset-3/test/images/seriously-unwell-apple-tree-fruit-brown-and-split-yellow-spots-on-leaves-scab-P67H27_jpg.rf.5b9ccaf5b6feffd56446d457035d92c5.jpg: 640x640 4 Apple leafs, 132.1ms\n",
      "image 199/233 /teamspace/studios/this_studio/PlantDoc-Dataset-3/test/images/southern-rust-close_jpg.rf.8f527b5ba7e6f7e92a4c9cf35496d8b7.jpg: 640x640 1 Corn rust leaf, 130.3ms\n",
      "image 200/233 /teamspace/studios/this_studio/PlantDoc-Dataset-3/test/images/southernrust_jpg.rf.0b4ce806954360d3caa67d13d90d54a3.jpg: 640x640 2 Corn rust leafs, 138.8ms\n",
      "image 201/233 /teamspace/studios/this_studio/PlantDoc-Dataset-3/test/images/soy-964327_960_720_jpg.rf.9b2180c22bd7ab2f8b160d4142f3e1a6.jpg: 640x640 (no detections), 157.6ms\n",
      "image 202/233 /teamspace/studios/this_studio/PlantDoc-Dataset-3/test/images/soybean-leaf-single_jpg.rf.25966c5325c05bde48cdd0bf6b8e289d.jpg: 640x640 1 Apple leaf, 3 Soyabean leafs, 140.7ms\n",
      "image 203/233 /teamspace/studios/this_studio/PlantDoc-Dataset-3/test/images/soybean-potassium-deficiency-2_jpg.rf.ccd53e48f90dae8248d196ad3d8e1b85.jpg: 640x640 3 Blueberry leafs, 134.9ms\n",
      "image 204/233 /teamspace/studios/this_studio/PlantDoc-Dataset-3/test/images/stock-photo-bacterial-spot-on-tomato-559799107_jpg.rf.36cbfb1048ddfd828d4336f9015abede.jpg: 640x640 1 Tomato Septoria leaf spot, 142.5ms\n",
      "image 205/233 /teamspace/studios/this_studio/PlantDoc-Dataset-3/test/images/stock-photo-closeup-of-underside-of-bell-pepper-leaf-isolated-on-white-background-114184570_jpg.rf.551a7a25e6c174c2c4f24d72564abbe4.jpg: 640x640 1 Tomato mold leaf, 140.2ms\n",
      "image 206/233 /teamspace/studios/this_studio/PlantDoc-Dataset-3/test/images/stock-photo-green-soy-pods-with-leaves-isolated-on-white-backgraund-310996559_jpg.rf.f5737c4bea0c6be8b04b1d26d1d5b4fb.jpg: 640x640 5 Blueberry leafs, 140.8ms\n",
      "image 207/233 /teamspace/studios/this_studio/PlantDoc-Dataset-3/test/images/stock-photo-peach-leaf-isolated-on-white-background-198744794_jpg.rf.dafdcfc1c75dbb787017b897bbf34e8d.jpg: 640x640 5 Peach leafs, 159.5ms\n",
      "image 208/233 /teamspace/studios/this_studio/PlantDoc-Dataset-3/test/images/stock-photo-peach-leaves-isolated-on-white-background-618456884_jpg.rf.b93baafdf44b4222fa8cc484830d8afe.jpg: 640x640 10 Peach leafs, 179.5ms\n",
      "image 209/233 /teamspace/studios/this_studio/PlantDoc-Dataset-3/test/images/stock-photo-peach-wet-fruit-with-leaf-isolated-on-white-248733745_jpg.rf.9d57611747d4e436920fc8d82383a3f5.jpg: 640x640 2 Peach leafs, 173.5ms\n",
      "image 210/233 /teamspace/studios/this_studio/PlantDoc-Dataset-3/test/images/stock-photo-red-apple-with-leaves-isolated-on-white-99003845_jpg.rf.17e564529d4d8235066139583d25239e.jpg: 640x640 1 Apple leaf, 199.5ms\n",
      "image 211/233 /teamspace/studios/this_studio/PlantDoc-Dataset-3/test/images/stock-photo-single-peach-with-leaves-on-a-white-background-111042830_jpg.rf.3efe72037f2e61c1e736993d7793430e.jpg: 640x640 2 Peach leafs, 210.4ms\n",
      "image 212/233 /teamspace/studios/this_studio/PlantDoc-Dataset-3/test/images/stock-photo-two-peach-leaves-isolated-on-white-311533217_jpg.rf.5bd7d7874de2dcc368af6abad8edb012.jpg: 640x640 2 Peach leafs, 142.3ms\n",
      "image 213/233 /teamspace/studios/this_studio/PlantDoc-Dataset-3/test/images/strawberry-leaf-stock-image-3663564_jpg.rf.cc0c3b525dff25590ef5a69ac6a123d4.jpg: 640x640 3 Strawberry leafs, 171.9ms\n",
      "image 214/233 /teamspace/studios/this_studio/PlantDoc-Dataset-3/test/images/strawberry-leaves-14363881_jpg.rf.f562ac978c135fefb72e9d2ad8025725.jpg: 640x640 3 Raspberry leafs, 131.9ms\n",
      "image 215/233 /teamspace/studios/this_studio/PlantDoc-Dataset-3/test/images/strawberry-plant-leaves-the-distorted-wrinkled-leaves-are-showing-signs-of-cold-damage-the-older-and-younger-leaves-around-them-are-normal-looking-strawberry-plant-leaves-turn-red_jpg.rf.b2bdb0e9d0bb5c7091f6f76fd6ca3e03.jpg: 640x640 5 Strawberry leafs, 1 grape leaf, 131.5ms\n",
      "image 216/233 /teamspace/studios/this_studio/PlantDoc-Dataset-3/test/images/swcdg1-e1482969712678-300x188_jpg.rf.36683961dad38c65dc8365ecc654f6e4.jpg: 640x640 1 Corn leaf blight, 132.3ms\n",
      "image 217/233 /teamspace/studios/this_studio/PlantDoc-Dataset-3/test/images/thumb-500_jpg.rf.d13dc947574159a000b316523fc1deec.jpg: 640x640 11 Tomato leaf bacterial spots, 127.3ms\n",
      "image 218/233 /teamspace/studios/this_studio/PlantDoc-Dataset-3/test/images/tomato-blight-phytophthora-infestans-close-up-of-infected-leaf-b5n95x_jpg.rf.0e83342af48fd97d347529310780e505.jpg: 640x640 1 Potato leaf early blight, 1 Tomato leaf yellow virus, 1 Tomato mold leaf, 144.2ms\n",
      "image 219/233 /teamspace/studios/this_studio/PlantDoc-Dataset-3/test/images/tomato-blight_jpg.rf.92d2904525c695a9031a3e8d0b90f767.jpg: 640x640 1 Corn leaf blight, 1 Potato leaf, 128.2ms\n",
      "image 220/233 /teamspace/studios/this_studio/PlantDoc-Dataset-3/test/images/tomato-leaf-6424287_jpg.rf.ce4f9f07ea1dbab8e10bb006e1149aa9.jpg: 640x640 3 Tomato leaf late blights, 141.9ms\n",
      "image 221/233 /teamspace/studios/this_studio/PlantDoc-Dataset-3/test/images/tomato-mosaic-virus-disease-on-260nw-559799638_jpg.rf.f47e62ccb9f3960e7fcf1b363e4f85fe.jpg: 640x640 3 Tomato leaf bacterial spots, 6 Tomato leaf late blights, 2 Tomato leafs, 138.4ms\n",
      "image 222/233 /teamspace/studios/this_studio/PlantDoc-Dataset-3/test/images/tomato-septoria-3-500x384_jpg.rf.f165a3495a486c2ed2f8fa3860f605fe.jpg: 640x640 1 Soyabean leaf, 4 Tomato Septoria leaf spots, 129.0ms\n",
      "image 223/233 /teamspace/studios/this_studio/PlantDoc-Dataset-3/test/images/tomato-septoria-5_jpg.rf.ccf5106d528d7f6e9a294063e246789e.jpg: 640x640 1 Tomato Septoria leaf spot, 1 Tomato leaf late blight, 1 Tomato mold leaf, 140.7ms\n",
      "image 224/233 /teamspace/studios/this_studio/PlantDoc-Dataset-3/test/images/tomato_fulvia_jpg.rf.bf6c889283fbd3875ef3f145919586ef.jpg: 640x640 1 Tomato mold leaf, 144.7ms\n",
      "image 225/233 /teamspace/studios/this_studio/PlantDoc-Dataset-3/test/images/tomato_late-blight_01_zoom_jpg.rf.05f11011f4570ef7b82f67e88c8342ba.jpg: 640x640 1 Tomato mold leaf, 136.5ms\n",
      "image 226/233 /teamspace/studios/this_studio/PlantDoc-Dataset-3/test/images/tomato_virus_06_zoom_jpg.rf.95b169f625f6b5371bf3dc6f4e033de3.jpg: 640x640 2 Tomato leaf bacterial spots, 1 Tomato leaf, 1 Tomato mold leaf, 137.8ms\n",
      "image 227/233 /teamspace/studios/this_studio/PlantDoc-Dataset-3/test/images/tomatoearlyblight_jpg.rf.f25fd6f9e8df2e662a8f1b47090c62dd.jpg: 640x640 1 Tomato Septoria leaf spot, 153.3ms\n",
      "image 228/233 /teamspace/studios/this_studio/PlantDoc-Dataset-3/test/images/top-leaf-mold-Fulva-fulvea-WN_jpg.rf.0ea0a58fe5966786c1fb8f051a1febc1.jpg: 640x640 2 Tomato leaf mosaic viruss, 139.8ms\n",
      "image 229/233 /teamspace/studios/this_studio/PlantDoc-Dataset-3/test/images/tree-branch-blossom-plant-fruit-berry-leaf-flower-ripe-food-red-produce-botany-flora-leaves-shrub-fruits-bing-cherry-cherries-flowering-plant-rose-family-fruity-cherry-harvest-sweet-cherry-land-plant-913933_jpg.rf.657ed261b6bad4ae7ba1d0ca885bb63b.jpg: 640x640 6 Cherry leafs, 142.0ms\n",
      "image 230/233 /teamspace/studios/this_studio/PlantDoc-Dataset-3/test/images/vaccinium-myrtilloides-le-dcameron-b_jpg.rf.b09804401905cc752a57d91d3ec2fe88.jpg: 640x640 12 Blueberry leafs, 130.5ms\n",
      "image 231/233 /teamspace/studios/this_studio/PlantDoc-Dataset-3/test/images/vdu-tomato-sept-eb-285x300_jpg.rf.afb1397ea855ffde518896403eeee82e.jpg: 640x640 1 Apple rust leaf, 1 Tomato Septoria leaf spot, 152.4ms\n",
      "image 232/233 /teamspace/studios/this_studio/PlantDoc-Dataset-3/test/images/white-powdery-mildew-leaves_jpg.rf.4d691ea8d6fa4e433dd9018093c66c2a.jpg: 640x640 4 Squash Powdery mildew leafs, 132.2ms\n",
      "image 233/233 /teamspace/studios/this_studio/PlantDoc-Dataset-3/test/images/xKh6iInh_jpg.rf.1a8e95487605826592b6ad32578fc29a.jpg: 640x640 2 Bell_pepper leafs, 1 Soyabean leaf, 1 Tomato leaf late blight, 1 Tomato mold leaf, 151.4ms\n",
      "Speed: 3.1ms preprocess, 145.9ms inference, 0.9ms postprocess per image at shape (1, 3, 640, 640)\n",
      "Results saved to \u001b[1mruns/detect/predict\u001b[0m\n"
     ]
    }
   ],
   "source": [
    "from ultralytics import YOLO\n",
    "\n",
    "model = YOLO(\"models/best.pt\")\n",
    "results = model.predict(source=\"PlantDoc-Dataset-3/test/images\", save=True, stream=True)\n",
    "for result in results:\n",
    "    pass"
   ]
  },
  {
   "cell_type": "code",
   "execution_count": null,
   "metadata": {},
   "outputs": [],
   "source": []
  }
 ],
 "metadata": {
  "language_info": {
   "name": "python"
  }
 },
 "nbformat": 4,
 "nbformat_minor": 2
}
